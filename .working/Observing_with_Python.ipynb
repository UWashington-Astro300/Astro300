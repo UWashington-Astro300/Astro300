{
 "cells": [
  {
   "cell_type": "markdown",
   "metadata": {},
   "source": [
    "# Planning observations with `AstroPy` and `astroplan`"
   ]
  },
  {
   "cell_type": "code",
   "execution_count": null,
   "metadata": {
    "collapsed": false
   },
   "outputs": [],
   "source": [
    "import numpy as np\n",
    "import astroplan as ap\n",
    "\n",
    "from astropy.time import Time\n",
    "import astropy.units as u"
   ]
  },
  {
   "cell_type": "markdown",
   "metadata": {},
   "source": [
    "### Time and Dates\n",
    "- **All dates and times in are UTC: *Coordinated Universal Time* **\n",
    "- UTC is closely related to  Greenwich Mean Time (GMT) but does not change with a change of seasons."
   ]
  },
  {
   "cell_type": "code",
   "execution_count": null,
   "metadata": {
    "collapsed": false
   },
   "outputs": [],
   "source": [
    "date1 = Time(\"2015-10-24 00:00:00\", format='iso')\n",
    "\n",
    "print(date1)"
   ]
  },
  {
   "cell_type": "markdown",
   "metadata": {},
   "source": [
    "### Current UTC Time"
   ]
  },
  {
   "cell_type": "code",
   "execution_count": null,
   "metadata": {
    "collapsed": false
   },
   "outputs": [],
   "source": [
    "now = Time.now()    # Current UTC Time\n",
    "\n",
    "print(now)"
   ]
  },
  {
   "cell_type": "markdown",
   "metadata": {},
   "source": [
    "### Date Math\n",
    "\n",
    "- u.s = seconds\n",
    "- u.min = minutes\n",
    "- u.h = hours\n",
    "- u.d = days\n",
    "- u.yr = years"
   ]
  },
  {
   "cell_type": "markdown",
   "metadata": {},
   "source": [
    "### Converting to local time - Need to know your offset from UTC"
   ]
  },
  {
   "cell_type": "code",
   "execution_count": null,
   "metadata": {
    "collapsed": false
   },
   "outputs": [],
   "source": [
    "# Seattle Time (PDT) = UTC - 7 hours\n",
    "\n",
    "print(\"The current local time is {0} PDT\".format(now - 7*u.h))  # Offset for current PDT Time"
   ]
  },
  {
   "cell_type": "code",
   "execution_count": null,
   "metadata": {
    "collapsed": false
   },
   "outputs": [],
   "source": [
    "print(\"In 1 hour and 25 minutes it will be {0} UTC\".format(now + 1*u.h + 25*u.min))"
   ]
  },
  {
   "cell_type": "code",
   "execution_count": null,
   "metadata": {
    "collapsed": false
   },
   "outputs": [],
   "source": [
    "Christmas = Time(\"2015-12-25 00:00:00\", format='iso')\n",
    "\n",
    "dt = Christmas - now\n",
    "\n",
    "print(dt)   # difference in days\n",
    "\n",
    "print(dt.sec)  #difference in seconds"
   ]
  },
  {
   "cell_type": "markdown",
   "metadata": {},
   "source": [
    "### Julian Date"
   ]
  },
  {
   "cell_type": "code",
   "execution_count": null,
   "metadata": {
    "collapsed": false
   },
   "outputs": [],
   "source": [
    "print(now.jd)\n",
    "\n",
    "print(now.mjd)"
   ]
  },
  {
   "cell_type": "markdown",
   "metadata": {},
   "source": [
    "## Observer Location"
   ]
  },
  {
   "cell_type": "code",
   "execution_count": null,
   "metadata": {
    "collapsed": false
   },
   "outputs": [],
   "source": [
    "from astropy.utils.data import download_file\n",
    "from astropy.utils import iers\n",
    "iers.IERS.iers_table = iers.IERS_A.open(download_file(iers.IERS_A_URL, cache=True))"
   ]
  },
  {
   "cell_type": "code",
   "execution_count": null,
   "metadata": {
    "collapsed": false
   },
   "outputs": [],
   "source": [
    "astrolab = ap.Observer(longitude = -122.3115 *u.deg,\n",
    "                       latitude = 47.65371*u.deg,\n",
    "                       elevation = 63.4*u.m,\n",
    "                       name = \"Astrolab\"\n",
    "                       )"
   ]
  },
  {
   "cell_type": "code",
   "execution_count": null,
   "metadata": {
    "collapsed": false
   },
   "outputs": [],
   "source": [
    "astrolab.local_sidereal_time(now)"
   ]
  },
  {
   "cell_type": "code",
   "execution_count": null,
   "metadata": {
    "collapsed": false
   },
   "outputs": [],
   "source": [
    "sunset = astrolab.sun_set_time(now, which='nearest')\n",
    "sunrise = astrolab.sun_rise_time(now, which='nearest')\n",
    "\n",
    "sunset.iso,sunrise.iso"
   ]
  },
  {
   "cell_type": "code",
   "execution_count": null,
   "metadata": {
    "collapsed": false
   },
   "outputs": [],
   "source": [
    "Time(sunset.iso) - 7*u.h"
   ]
  },
  {
   "cell_type": "code",
   "execution_count": null,
   "metadata": {
    "collapsed": false
   },
   "outputs": [],
   "source": [
    "#ap.get_site_names()"
   ]
  },
  {
   "cell_type": "code",
   "execution_count": null,
   "metadata": {
    "collapsed": false
   },
   "outputs": [],
   "source": [
    "mro = ap.Observer.at_site('mro')\n",
    "\n",
    "sunset_mro = mro.sun_set_time(now, which='nearest')\n",
    "\n",
    "sunset_mro.iso"
   ]
  },
  {
   "cell_type": "markdown",
   "metadata": {},
   "source": [
    "## Objects in the sky"
   ]
  },
  {
   "cell_type": "markdown",
   "metadata": {},
   "source": [
    "### Fixed Objects"
   ]
  },
  {
   "cell_type": "code",
   "execution_count": null,
   "metadata": {
    "collapsed": false
   },
   "outputs": [],
   "source": [
    "MyStar = ephem.FixedBody()\n",
    "\n",
    "MyStar._ra = ephem.hours('12:00:00')\n",
    "MyStar._dec = ephem.degrees('00:00:00')\n",
    "MyStar._epoch = ephem.J2000"
   ]
  },
  {
   "cell_type": "code",
   "execution_count": null,
   "metadata": {
    "collapsed": false
   },
   "outputs": [],
   "source": [
    "MyStar.compute(now)"
   ]
  },
  {
   "cell_type": "code",
   "execution_count": null,
   "metadata": {
    "collapsed": false
   },
   "outputs": [],
   "source": [
    "# Coordinates are precessed to time of computation\n",
    "\n",
    "print MyStar.ra, MyStar.dec\n",
    "print ephem.constellation(MyStar)"
   ]
  },
  {
   "cell_type": "markdown",
   "metadata": {},
   "source": [
    "### Local sky coordinates"
   ]
  },
  {
   "cell_type": "code",
   "execution_count": null,
   "metadata": {
    "collapsed": false
   },
   "outputs": [],
   "source": [
    "betelgeuse.compute(astrolab)\n",
    "\n",
    "polaris = ephem.star('Polaris')\n",
    "polaris.compute(astrolab)"
   ]
  },
  {
   "cell_type": "code",
   "execution_count": null,
   "metadata": {
    "collapsed": false
   },
   "outputs": [],
   "source": [
    "print polaris.circumpolar\n",
    "print betelgeuse.circumpolar"
   ]
  },
  {
   "cell_type": "code",
   "execution_count": null,
   "metadata": {
    "collapsed": false
   },
   "outputs": [],
   "source": [
    "print polaris.neverup\n",
    "print betelgeuse.neverup"
   ]
  },
  {
   "cell_type": "code",
   "execution_count": null,
   "metadata": {
    "collapsed": false
   },
   "outputs": [],
   "source": [
    "# Altitude (alt) and Azimuth (az)\n",
    "\n",
    "# Altitude - degrees from local horizon (<0 means below local horizon)\n",
    "# Azimuth - degrees from North. East = 90, South = 180, W = 270.\n",
    "\n",
    "print betelgeuse.alt, betelgeuse.az\n",
    "print polaris.alt, polaris.az"
   ]
  },
  {
   "cell_type": "markdown",
   "metadata": {},
   "source": [
    "### Example: Observing at a specific location and time\n",
    "- You are spending the winter holidays in Rio de Janeiro, Brazil\n",
    "- Want to know if you can observe Betelgeuse from the beach\n",
    "- If so, what time does it rise and transit on Christmas Eve (Dec 24)"
   ]
  },
  {
   "cell_type": "code",
   "execution_count": null,
   "metadata": {
    "collapsed": false
   },
   "outputs": [],
   "source": [
    "# Set up the location\n",
    "\n",
    "rio = ephem.Observer()\n",
    "\n",
    "rio.lon = '-43.20750'\n",
    "rio.lat = '-22.90278'\n",
    "rio.elevation = 5"
   ]
  },
  {
   "cell_type": "code",
   "execution_count": null,
   "metadata": {
    "collapsed": false
   },
   "outputs": [],
   "source": [
    "# Set up time\n",
    "# In December Rio is on daylight savings time (UTC - 2 hours)\n",
    "\n",
    "# Set your time to 12 noon Rio time (12:00 UTC + 2 hours)\n",
    "\n",
    "rio.date = ephem.Date('2015/12/24 12:00:00') + 2*ephem.hour\n",
    "\n",
    "print rio.date"
   ]
  },
  {
   "cell_type": "code",
   "execution_count": null,
   "metadata": {
    "collapsed": false
   },
   "outputs": [],
   "source": [
    "# Can we see Betelgeuse at all?\n",
    "\n",
    "betelgeuse.compute(rio)\n",
    "print betelgeuse.neverup"
   ]
  },
  {
   "cell_type": "code",
   "execution_count": null,
   "metadata": {
    "collapsed": false
   },
   "outputs": [],
   "source": [
    "# Is Betelgeuse close to the Sun?\n",
    "\n",
    "sun.compute(rio)\n",
    "\n",
    "print ephem.separation(sun,betelgeuse)"
   ]
  },
  {
   "cell_type": "code",
   "execution_count": null,
   "metadata": {
    "collapsed": false
   },
   "outputs": [],
   "source": [
    "# Time of rising, transit, and setting\n",
    "\n",
    "print ephem.Date(rio.next_rising(betelgeuse) - 2*ephem.hour)\n",
    "print ephem.Date(rio.next_transit(betelgeuse) - 2*ephem.hour)\n",
    "print ephem.Date(rio.next_setting(betelgeuse) - 2*ephem.hour)"
   ]
  },
  {
   "cell_type": "code",
   "execution_count": null,
   "metadata": {
    "collapsed": false
   },
   "outputs": [],
   "source": [
    "# Alt and Az at transit\n",
    "\n",
    "rio.date = ephem.Date(rio.next_transit(betelgeuse))\n",
    "\n",
    "betelgeuse.compute(rio)\n",
    "print betelgeuse.alt, betelgeuse.az"
   ]
  },
  {
   "cell_type": "markdown",
   "metadata": {},
   "source": [
    "### Caution: Circumpolar objects will throw an error if you ask for rising/setting times"
   ]
  },
  {
   "cell_type": "code",
   "execution_count": null,
   "metadata": {
    "collapsed": false
   },
   "outputs": [],
   "source": [
    "print astrolab.next_rising(polaris)"
   ]
  },
  {
   "cell_type": "code",
   "execution_count": null,
   "metadata": {
    "collapsed": false
   },
   "outputs": [],
   "source": []
  }
 ],
 "metadata": {
  "kernelspec": {
   "display_name": "Python 3",
   "language": "python",
   "name": "python3"
  },
  "language_info": {
   "codemirror_mode": {
    "name": "ipython",
    "version": 3
   },
   "file_extension": ".py",
   "mimetype": "text/x-python",
   "name": "python",
   "nbconvert_exporter": "python",
   "pygments_lexer": "ipython3",
   "version": "3.4.3"
  }
 },
 "nbformat": 4,
 "nbformat_minor": 0
}
