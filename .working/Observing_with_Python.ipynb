{
 "cells": [
  {
   "cell_type": "markdown",
   "metadata": {},
   "source": [
    "# Planning observations with `astroplan`"
   ]
  },
  {
   "cell_type": "code",
   "execution_count": null,
   "metadata": {
    "collapsed": false
   },
   "outputs": [],
   "source": [
    "import numpy as np\n",
    "import astroplan as ap"
   ]
  },
  {
   "cell_type": "markdown",
   "metadata": {},
   "source": [
    "### Time and Dates\n",
    "- **All dates and times in `PyEphem` are UTC: *Coordinated Universal Time* **\n",
    "- UTC is closely related to  Greenwich Mean Time (GMT) but does not change with a change of seasons."
   ]
  },
  {
   "cell_type": "code",
   "execution_count": null,
   "metadata": {
    "collapsed": false
   },
   "outputs": [],
   "source": [
    "date1 = ephem.Date(\"2014\")                # 2014/1/1   00:00:00 UTC \n",
    "date2 = ephem.Date(\"2014/10/27.5\")        # 2014/10/27 12:00:00 UTC \n",
    "date3 = ephem.Date(\"2014/10/31 12:34:56\") # 2014/10/31 12:34:56 UTC\n",
    "\n",
    "print date1\n",
    "print date2\n",
    "print date3"
   ]
  },
  {
   "cell_type": "markdown",
   "metadata": {},
   "source": [
    "### Converting to local time - Need to know your offset from UTC"
   ]
  },
  {
   "cell_type": "code",
   "execution_count": null,
   "metadata": {
    "collapsed": false
   },
   "outputs": [],
   "source": [
    "# Seattle Time (PST) = UTC - 8 hours\n",
    "\n",
    "date3_here = ephem.Date(date3 - 8*ephem.hour)    #offset UTC to PST\n",
    "\n",
    "print date3_here"
   ]
  },
  {
   "cell_type": "markdown",
   "metadata": {},
   "source": [
    "### Current Time"
   ]
  },
  {
   "cell_type": "code",
   "execution_count": null,
   "metadata": {
    "collapsed": false
   },
   "outputs": [],
   "source": [
    "now = ephem.now()    # Current UTC Time\n",
    "\n",
    "print now\n",
    "print ephem.Date(now - 8*ephem.hour)  # Offset for current PST Time"
   ]
  },
  {
   "cell_type": "markdown",
   "metadata": {},
   "source": [
    "### Date Math"
   ]
  },
  {
   "cell_type": "code",
   "execution_count": null,
   "metadata": {
    "collapsed": false
   },
   "outputs": [],
   "source": [
    "new_date = ephem.Date(now + 20)      # The default unit is days\n",
    "\n",
    "print new_date"
   ]
  },
  {
   "cell_type": "code",
   "execution_count": null,
   "metadata": {
    "collapsed": false
   },
   "outputs": [],
   "source": [
    "new_date2 = ephem.Date(now + 1*ephem.hour + 13*ephem.minute + 33*ephem.second)\n",
    "\n",
    "print new_date2"
   ]
  },
  {
   "cell_type": "markdown",
   "metadata": {},
   "source": [
    "### Julian Date"
   ]
  },
  {
   "cell_type": "code",
   "execution_count": null,
   "metadata": {
    "collapsed": false
   },
   "outputs": [],
   "source": [
    "print ephem.julian_date(now)"
   ]
  },
  {
   "cell_type": "code",
   "execution_count": null,
   "metadata": {
    "collapsed": false
   },
   "outputs": [],
   "source": [
    "# Modified Julian Date (MJD)\n",
    "\n",
    "print ephem.julian_date(now) - 2400000.5"
   ]
  },
  {
   "cell_type": "markdown",
   "metadata": {},
   "source": [
    "### Some built-in date functions"
   ]
  },
  {
   "cell_type": "code",
   "execution_count": null,
   "metadata": {
    "collapsed": false
   },
   "outputs": [],
   "source": [
    "print ephem.next_solstice(now)\n",
    "print ephem.next_equinox(now)\n",
    "\n",
    "# Convert to PST\n",
    "\n",
    "print ephem.Date(ephem.next_solstice(now) - 8 * ephem.hour)\n",
    "print ephem.Date(ephem.next_equinox(now) - 8 * ephem.hour)"
   ]
  },
  {
   "cell_type": "markdown",
   "metadata": {},
   "source": [
    "### Daylight Savings Time is a pain....."
   ]
  },
  {
   "cell_type": "code",
   "execution_count": null,
   "metadata": {
    "collapsed": false
   },
   "outputs": [],
   "source": [
    "# But Daylight saving time starts March 8 2015 so PDT = UTC - 7\n",
    "\n",
    "print ephem.Date(ephem.next_solstice(now) - 7 * ephem.hour)\n",
    "print ephem.Date(ephem.next_equinox(now) - 7 * ephem.hour)"
   ]
  },
  {
   "cell_type": "code",
   "execution_count": null,
   "metadata": {
    "collapsed": false
   },
   "outputs": [],
   "source": [
    "print ephem.next_new_moon(now)\n",
    "print ephem.next_first_quarter_moon(now)\n",
    "print ephem.next_full_moon(now)\n",
    "print ephem.next_last_quarter_moon(now)"
   ]
  },
  {
   "cell_type": "markdown",
   "metadata": {},
   "source": [
    "## Objects in the sky"
   ]
  },
  {
   "cell_type": "markdown",
   "metadata": {},
   "source": [
    "### Built-in solar system bodies"
   ]
  },
  {
   "cell_type": "raw",
   "metadata": {},
   "source": [
    "Sun                        Jupiter - Io, Europa, Ganymede, Callisto\n",
    "Mercury                    Saturn - Mimas, Enceladus, Tethys, Dione, Rhea, Titan, Iapetus, Hyperion\n",
    "Venus                      Uranus- Miranda, Ariel, Umbriel, Titania, Oberon\n",
    "Moon                       Neptune\n",
    "Mars - Phobos, Deimos      Pluto"
   ]
  },
  {
   "cell_type": "code",
   "execution_count": null,
   "metadata": {
    "collapsed": false
   },
   "outputs": [],
   "source": [
    "sun = ephem.Sun()     # Set up the object\n",
    "sun.compute(now)      # Calculate the objects parameters for a specific time"
   ]
  },
  {
   "cell_type": "markdown",
   "metadata": {},
   "source": [
    "### Where is it?"
   ]
  },
  {
   "cell_type": "code",
   "execution_count": null,
   "metadata": {
    "collapsed": false
   },
   "outputs": [],
   "source": [
    "print sun.ra, sun.dec"
   ]
  },
  {
   "cell_type": "code",
   "execution_count": null,
   "metadata": {
    "collapsed": false
   },
   "outputs": [],
   "source": [
    "print ephem.constellation(sun)"
   ]
  },
  {
   "cell_type": "code",
   "execution_count": null,
   "metadata": {
    "collapsed": false
   },
   "outputs": [],
   "source": [
    "venus = ephem.Venus()\n",
    "venus.compute(now)"
   ]
  },
  {
   "cell_type": "code",
   "execution_count": null,
   "metadata": {
    "collapsed": false
   },
   "outputs": [],
   "source": [
    "print venus.sun_distance\n",
    "print venus.earth_distance"
   ]
  },
  {
   "cell_type": "code",
   "execution_count": null,
   "metadata": {
    "collapsed": false
   },
   "outputs": [],
   "source": [
    "print venus.ra, venus.dec\n",
    "print ephem.constellation(venus)"
   ]
  },
  {
   "cell_type": "code",
   "execution_count": null,
   "metadata": {
    "collapsed": false
   },
   "outputs": [],
   "source": [
    "print ephem.separation(sun,venus)"
   ]
  },
  {
   "cell_type": "markdown",
   "metadata": {},
   "source": [
    "### Stars"
   ]
  },
  {
   "cell_type": "code",
   "execution_count": null,
   "metadata": {
    "collapsed": false
   },
   "outputs": [],
   "source": [
    "betelgeuse = ephem.star('Betelgeuse')\n",
    "betelgeuse.compute(now)"
   ]
  },
  {
   "cell_type": "code",
   "execution_count": null,
   "metadata": {
    "collapsed": false
   },
   "outputs": [],
   "source": [
    "print betelgeuse.ra, betelgeuse.dec"
   ]
  },
  {
   "cell_type": "code",
   "execution_count": null,
   "metadata": {
    "collapsed": false
   },
   "outputs": [],
   "source": [
    "print ephem.constellation(betelgeuse)"
   ]
  },
  {
   "cell_type": "code",
   "execution_count": null,
   "metadata": {
    "collapsed": false
   },
   "outputs": [],
   "source": [
    "# Built in Stars\n",
    "\n",
    "import ephem.stars\n",
    "print np.sort(ephem.stars.stars.keys())"
   ]
  },
  {
   "cell_type": "markdown",
   "metadata": {},
   "source": [
    "## Inputting your own objects"
   ]
  },
  {
   "cell_type": "markdown",
   "metadata": {},
   "source": [
    "### Fixed Objects"
   ]
  },
  {
   "cell_type": "code",
   "execution_count": null,
   "metadata": {
    "collapsed": false
   },
   "outputs": [],
   "source": [
    "MyStar = ephem.FixedBody()\n",
    "\n",
    "MyStar._ra = ephem.hours('12:00:00')\n",
    "MyStar._dec = ephem.degrees('00:00:00')\n",
    "MyStar._epoch = ephem.J2000"
   ]
  },
  {
   "cell_type": "code",
   "execution_count": null,
   "metadata": {
    "collapsed": false
   },
   "outputs": [],
   "source": [
    "MyStar.compute(now)"
   ]
  },
  {
   "cell_type": "code",
   "execution_count": null,
   "metadata": {
    "collapsed": false
   },
   "outputs": [],
   "source": [
    "# Coordinates are precessed to time of computation\n",
    "\n",
    "print MyStar.ra, MyStar.dec\n",
    "print ephem.constellation(MyStar)"
   ]
  },
  {
   "cell_type": "markdown",
   "metadata": {},
   "source": [
    "### Moving Objects"
   ]
  },
  {
   "cell_type": "code",
   "execution_count": null,
   "metadata": {
    "collapsed": false
   },
   "outputs": [],
   "source": [
    "Halley = ephem.EllipticalBody()\n",
    "\n",
    "Halley._epoch_M = ephem.Date('2014/10/09 00:00:00.0000')\n",
    "Halley._epoch = ephem.Date('2014/10/09 00:00:00.0000')\n",
    "Halley._a = 17.8589\n",
    "Halley._e = 0.9680\n",
    "Halley._inc = 162.2302\n",
    "Halley._Om = 59.0020\n",
    "Halley._om = 111.8566\n",
    "Halley._M = 136.7636"
   ]
  },
  {
   "cell_type": "code",
   "execution_count": null,
   "metadata": {
    "collapsed": false
   },
   "outputs": [],
   "source": [
    "Halley.compute(now)"
   ]
  },
  {
   "cell_type": "code",
   "execution_count": null,
   "metadata": {
    "collapsed": false
   },
   "outputs": [],
   "source": [
    "print Halley.ra, Halley.dec\n",
    "print ephem.constellation(Halley)"
   ]
  },
  {
   "cell_type": "markdown",
   "metadata": {},
   "source": [
    "### Location of Observer"
   ]
  },
  {
   "cell_type": "code",
   "execution_count": null,
   "metadata": {
    "collapsed": false
   },
   "outputs": [],
   "source": [
    "seattle = ephem.city('Seattle')\n",
    "seattle.date = now\n",
    "\n",
    "print seattle"
   ]
  },
  {
   "cell_type": "code",
   "execution_count": null,
   "metadata": {
    "collapsed": false
   },
   "outputs": [],
   "source": [
    "# Built in Cities\n",
    "\n",
    "import ephem.cities\n",
    "print np.sort(ephem.cities._city_data.keys())"
   ]
  },
  {
   "cell_type": "code",
   "execution_count": null,
   "metadata": {
    "collapsed": false
   },
   "outputs": [],
   "source": [
    "astrolab = ephem.Observer()\n",
    "\n",
    "astrolab.date = now\n",
    "astrolab.lat = '47:39:13.354'\n",
    "astrolab.lon = '-122:18:41.321'\n",
    "astrolab.elevation = 63.4"
   ]
  },
  {
   "cell_type": "code",
   "execution_count": null,
   "metadata": {
    "collapsed": false
   },
   "outputs": [],
   "source": [
    "mro = ephem.Observer()\n",
    "\n",
    "mro.date = now\n",
    "mro.lon = '-120.7278'\n",
    "mro.lat = '46.9528'\n",
    "mro.elevation = 1198"
   ]
  },
  {
   "cell_type": "markdown",
   "metadata": {},
   "source": [
    "### Local Sideral Time (LST)"
   ]
  },
  {
   "cell_type": "code",
   "execution_count": null,
   "metadata": {
    "collapsed": false
   },
   "outputs": [],
   "source": [
    "print astrolab.sidereal_time()\n",
    "print mro.sidereal_time()"
   ]
  },
  {
   "cell_type": "markdown",
   "metadata": {},
   "source": [
    "### Rising, Setting and Transit times"
   ]
  },
  {
   "cell_type": "code",
   "execution_count": null,
   "metadata": {
    "collapsed": false
   },
   "outputs": [],
   "source": [
    "s1 = seattle.next_setting(sun)\n",
    "s2 = astrolab.next_setting(sun)\n",
    "s3 = mro.next_setting(sun)\n",
    "\n",
    "# All times are in UTC\n",
    "\n",
    "print ephem.Date(s1 - 8*ephem.hour)\n",
    "print ephem.Date(s2 - 8*ephem.hour)\n",
    "print ephem.Date(s3 - 8*ephem.hour)"
   ]
  },
  {
   "cell_type": "code",
   "execution_count": null,
   "metadata": {
    "collapsed": false
   },
   "outputs": [],
   "source": [
    "print ephem.Date(astrolab.next_rising(sun) - 8*ephem.hour)\n",
    "print ephem.Date(astrolab.next_transit(sun) - 8*ephem.hour)"
   ]
  },
  {
   "cell_type": "markdown",
   "metadata": {},
   "source": [
    "### Local sky coordinates"
   ]
  },
  {
   "cell_type": "code",
   "execution_count": null,
   "metadata": {
    "collapsed": false
   },
   "outputs": [],
   "source": [
    "betelgeuse.compute(astrolab)\n",
    "\n",
    "polaris = ephem.star('Polaris')\n",
    "polaris.compute(astrolab)"
   ]
  },
  {
   "cell_type": "code",
   "execution_count": null,
   "metadata": {
    "collapsed": false
   },
   "outputs": [],
   "source": [
    "print polaris.circumpolar\n",
    "print betelgeuse.circumpolar"
   ]
  },
  {
   "cell_type": "code",
   "execution_count": null,
   "metadata": {
    "collapsed": false
   },
   "outputs": [],
   "source": [
    "print polaris.neverup\n",
    "print betelgeuse.neverup"
   ]
  },
  {
   "cell_type": "code",
   "execution_count": null,
   "metadata": {
    "collapsed": false
   },
   "outputs": [],
   "source": [
    "# Altitude (alt) and Azimuth (az)\n",
    "\n",
    "# Altitude - degrees from local horizon (<0 means below local horizon)\n",
    "# Azimuth - degrees from North. East = 90, South = 180, W = 270.\n",
    "\n",
    "print betelgeuse.alt, betelgeuse.az\n",
    "print polaris.alt, polaris.az"
   ]
  },
  {
   "cell_type": "markdown",
   "metadata": {},
   "source": [
    "### Example: Observing at a specific location and time\n",
    "- You are spending the winter holidays in Rio de Janeiro, Brazil\n",
    "- Want to know if you can observe Betelgeuse from the beach\n",
    "- If so, what time does it rise and transit on Christmas Eve (Dec 24)"
   ]
  },
  {
   "cell_type": "code",
   "execution_count": null,
   "metadata": {
    "collapsed": false
   },
   "outputs": [],
   "source": [
    "# Set up the location\n",
    "\n",
    "rio = ephem.Observer()\n",
    "\n",
    "rio.lon = '-43.20750'\n",
    "rio.lat = '-22.90278'\n",
    "rio.elevation = 5"
   ]
  },
  {
   "cell_type": "code",
   "execution_count": null,
   "metadata": {
    "collapsed": false
   },
   "outputs": [],
   "source": [
    "# Set up time\n",
    "# In December Rio is on daylight savings time (UTC - 2 hours)\n",
    "\n",
    "# Set your time to 12 noon Rio time (12:00 UTC + 2 hours)\n",
    "\n",
    "rio.date = ephem.Date('2015/12/24 12:00:00') + 2*ephem.hour\n",
    "\n",
    "print rio.date"
   ]
  },
  {
   "cell_type": "code",
   "execution_count": null,
   "metadata": {
    "collapsed": false
   },
   "outputs": [],
   "source": [
    "# Can we see Betelgeuse at all?\n",
    "\n",
    "betelgeuse.compute(rio)\n",
    "print betelgeuse.neverup"
   ]
  },
  {
   "cell_type": "code",
   "execution_count": null,
   "metadata": {
    "collapsed": false
   },
   "outputs": [],
   "source": [
    "# Is Betelgeuse close to the Sun?\n",
    "\n",
    "sun.compute(rio)\n",
    "\n",
    "print ephem.separation(sun,betelgeuse)"
   ]
  },
  {
   "cell_type": "code",
   "execution_count": null,
   "metadata": {
    "collapsed": false
   },
   "outputs": [],
   "source": [
    "# Time of rising, transit, and setting\n",
    "\n",
    "print ephem.Date(rio.next_rising(betelgeuse) - 2*ephem.hour)\n",
    "print ephem.Date(rio.next_transit(betelgeuse) - 2*ephem.hour)\n",
    "print ephem.Date(rio.next_setting(betelgeuse) - 2*ephem.hour)"
   ]
  },
  {
   "cell_type": "code",
   "execution_count": null,
   "metadata": {
    "collapsed": false
   },
   "outputs": [],
   "source": [
    "# Alt and Az at transit\n",
    "\n",
    "rio.date = ephem.Date(rio.next_transit(betelgeuse))\n",
    "\n",
    "betelgeuse.compute(rio)\n",
    "print betelgeuse.alt, betelgeuse.az"
   ]
  },
  {
   "cell_type": "markdown",
   "metadata": {},
   "source": [
    "### Caution: Circumpolar objects will throw an error if you ask for rising/setting times"
   ]
  },
  {
   "cell_type": "code",
   "execution_count": null,
   "metadata": {
    "collapsed": false
   },
   "outputs": [],
   "source": [
    "print astrolab.next_rising(polaris)"
   ]
  },
  {
   "cell_type": "code",
   "execution_count": null,
   "metadata": {
    "collapsed": false
   },
   "outputs": [],
   "source": []
  }
 ],
 "metadata": {
  "kernelspec": {
   "display_name": "Python 3",
   "language": "python",
   "name": "python3"
  },
  "language_info": {
   "codemirror_mode": {
    "name": "ipython",
    "version": 3
   },
   "file_extension": ".py",
   "mimetype": "text/x-python",
   "name": "python",
   "nbconvert_exporter": "python",
   "pygments_lexer": "ipython3",
   "version": "3.4.3"
  }
 },
 "nbformat": 4,
 "nbformat_minor": 0
}
