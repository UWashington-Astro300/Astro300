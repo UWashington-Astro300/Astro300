{
 "metadata": {
  "name": "",
  "signature": "sha256:fd8e19049d3148e2f127cfb0515b7092051f7f439cb28f053a56a71ab68f1c4d"
 },
 "nbformat": 3,
 "nbformat_minor": 0,
 "worksheets": [
  {
   "cells": [
    {
     "cell_type": "markdown",
     "metadata": {},
     "source": [
      "##First Last - Homework \\#4"
     ]
    },
    {
     "cell_type": "code",
     "collapsed": false,
     "input": [
      "import numpy as np\n",
      "import pandas as pd\n",
      "\n",
      "from FindE import FindE, FindT"
     ],
     "language": "python",
     "metadata": {},
     "outputs": []
    },
    {
     "cell_type": "code",
     "collapsed": false,
     "input": [
      "!./MJD 1 28 2015"
     ],
     "language": "python",
     "metadata": {},
     "outputs": []
    },
    {
     "cell_type": "code",
     "collapsed": false,
     "input": [
      "date = 57050"
     ],
     "language": "python",
     "metadata": {},
     "outputs": []
    },
    {
     "cell_type": "markdown",
     "metadata": {},
     "source": [
      "### Read in dataset `PLANETS.csv`\n",
      "\n",
      "- `The columns for the dataset 'PLANETS.csv' are: Epoch, a, ecc, i, O, w, M, Name`"
     ]
    },
    {
     "cell_type": "code",
     "collapsed": false,
     "input": [
      "T = pd.read_csv('PLANETS.csv')\n",
      "\n",
      "print T"
     ],
     "language": "python",
     "metadata": {},
     "outputs": []
    },
    {
     "cell_type": "markdown",
     "metadata": {},
     "source": [
      "### Write a function to find the mean motion (n) for the objects"
     ]
    },
    {
     "cell_type": "code",
     "collapsed": false,
     "input": [
      "# n(Mars) = 0.5240\n",
      "\n",
      "def Findn(a):\n",
      "\n",
      "  n = 0.98560 * a**(-1.5)\n",
      "  return n\n",
      "\n",
      "n = Findn(T['a'])\n",
      "\n",
      "print n"
     ],
     "language": "python",
     "metadata": {},
     "outputs": []
    },
    {
     "cell_type": "markdown",
     "metadata": {},
     "source": [
      "### Write a function to find the Mean Anomaly of the objects for today M(date)\n",
      "- Make sure 0 < M(date) < 360"
     ]
    },
    {
     "cell_type": "code",
     "collapsed": false,
     "input": [
      "# M(57050)  Mars = 24.44\n",
      "\n",
      "def FindM(date,epoch,n,M):\n",
      "\n",
      "  Mt = M + n * (date - epoch)\n",
      "  return Mt%360\n",
      "\n",
      "Mt = FindM(date,T['Epoch'], n, T['M'])\n",
      "print Mt"
     ],
     "language": "python",
     "metadata": {},
     "outputs": []
    },
    {
     "cell_type": "markdown",
     "metadata": {},
     "source": [
      "### Find the number of days, from today, for the next perihelion of all the objects\n",
      "\n",
      "Your output should look like:\n",
      "- `For Mars, the next perihelion will be in 640 days.`"
     ]
    },
    {
     "cell_type": "code",
     "collapsed": false,
     "input": [
      "NextPeri = (360.0 - Mt) / n\n",
      "\n",
      "#print NextPeri\n",
      "\n",
      "for i,j in enumerate(T['Name']):\n",
      "    \n",
      "    text = \"For \" + j + \" the next perihelion will be in \" + str(int(NextPeri[i])) + \" days\"\n",
      "    print text"
     ],
     "language": "python",
     "metadata": {},
     "outputs": []
    },
    {
     "cell_type": "markdown",
     "metadata": {},
     "source": [
      "### Write a function to find `r` for the objects\n",
      "* The Functions `FindE` and `FindT` are provided:\n",
      "  * `FindE(ecc,M)` returns **E** in degrees\n",
      "  * `FindT(ecc,E)` returns **T** in degrees"
     ]
    },
    {
     "cell_type": "code",
     "collapsed": false,
     "input": [
      "# r(Mars) = 1.397\n",
      "\n",
      "def Findr(a,ecc,E):\n",
      "\n",
      "  Erad = np.radians(E)\n",
      "  r = a * (1.0 - ecc * np.cos(Erad))\n",
      "  return r"
     ],
     "language": "python",
     "metadata": {},
     "outputs": []
    },
    {
     "cell_type": "code",
     "collapsed": false,
     "input": [
      "E = FindE(T['ecc'], Mt)\n",
      "TA = FindT(T['ecc'], E)\n",
      "\n",
      "r = Findr(T['a'], T['ecc'], E)\n",
      "\n",
      "print r"
     ],
     "language": "python",
     "metadata": {},
     "outputs": []
    },
    {
     "cell_type": "markdown",
     "metadata": {},
     "source": [
      "### Write 3 functions to find the `(X,Y,Z)` of the objects\n",
      "\n",
      "- Start with finding Z (it is the easiest)\n",
      "- Make sure all `np.sin(), np.cos()` are in radians"
     ]
    },
    {
     "cell_type": "code",
     "collapsed": false,
     "input": [
      "# Mars: X = 1.390 Y = 0.133 Z = -0.031\n",
      "\n",
      "def FindXYZ(O,w,T,i,r):\n",
      "\n",
      "    wrad = np.radians(w)\n",
      "    Orad = np.radians(O)\n",
      "    Trad = np.radians(T)\n",
      "    irad = np.radians(i)\n",
      "\n",
      "    X1 = np.cos(Orad)*np.cos(wrad+Trad)\n",
      "    X2 = np.sin(Orad)*np.sin(wrad+Trad)*np.cos(irad)\n",
      "    X = r * (X1 - X2)\n",
      "\n",
      "    Y1 = np.sin(Orad)*np.cos(wrad+Trad)\n",
      "    Y2 = np.cos(Orad)*np.sin(wrad+Trad)*np.cos(irad)\n",
      "    Y = r * (Y1 + Y2)\n",
      "\n",
      "    Z = np.sin(wrad+Trad) * np.sin(irad) * r\n",
      "\n",
      "    return X,Y,Z"
     ],
     "language": "python",
     "metadata": {},
     "outputs": []
    },
    {
     "cell_type": "code",
     "collapsed": false,
     "input": [
      "X,Y,Z = FindXYZ(T['O'], T['w'], TA, T['i'], r)\n",
      "\n",
      "print X[3],Y[3],Z[3]"
     ],
     "language": "python",
     "metadata": {},
     "outputs": []
    },
    {
     "cell_type": "markdown",
     "metadata": {},
     "source": [
      "### Print out the distances of all of the objects from the Earth\n",
      "\n",
      "Your output should look like:\n",
      "\n",
      "- `The distance from the Earth to Mars is 2.09213223517 AU`"
     ]
    },
    {
     "cell_type": "code",
     "collapsed": false,
     "input": [
      "def PDist(r1,T1,r2,T2):\n",
      "    \n",
      "    T1rad = np.radians(T1)\n",
      "    T2rad = np.radians(T2)\n",
      "    \n",
      "    R1 = r1**2 + r2**2\n",
      "    R2 = 2 * r1 * r2 * np.cos(T1rad -T2rad)\n",
      "    \n",
      "    return np.sqrt(R1-R2)\n",
      "    \n",
      "Dist = np.sqrt( (X - X[2]) ** 2 + (Y - Y[2]) ** 2 + (Z - Z[2]) ** 2 )\n",
      "Dist2 = PDist(r[2], TA[2], r, TA)\n",
      "\n",
      "print Dist2\n",
      "\n",
      "for i,j in enumerate(Dist):\n",
      "    text = \"The distance from the Earth to \" + T['Name'][i] + \" is \" + str(j) + \" AU\"\n",
      "    print text"
     ],
     "language": "python",
     "metadata": {},
     "outputs": []
    },
    {
     "cell_type": "markdown",
     "metadata": {},
     "source": [
      "### Due Tue Oct 21 - 5pm\n",
      "- `cp FirstLast_HW4.ipynb ~pikaia/HOMEWORK/`\n",
      "- Make sure to change the file name to your name!"
     ]
    }
   ],
   "metadata": {}
  }
 ]
}