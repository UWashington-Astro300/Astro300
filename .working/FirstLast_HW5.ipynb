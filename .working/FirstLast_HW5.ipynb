{
 "metadata": {
  "name": "",
  "signature": "sha256:d7f04917909c8180b1f25c840261f581dce7b8140ff2da4bb743b88dc53c5e48"
 },
 "nbformat": 3,
 "nbformat_minor": 0,
 "worksheets": [
  {
   "cells": [
    {
     "cell_type": "markdown",
     "metadata": {},
     "source": [
      "##First Last - Homework \\#5"
     ]
    },
    {
     "cell_type": "code",
     "collapsed": false,
     "input": [
      "import numpy as np\n",
      "import ephem"
     ],
     "language": "python",
     "metadata": {},
     "outputs": []
    },
    {
     "cell_type": "markdown",
     "metadata": {},
     "source": [
      "### Part I - Planning observations"
     ]
    },
    {
     "cell_type": "markdown",
     "metadata": {},
     "source": [
      "#### I have given you data on three observatories and three celestial objects. Your job is to determine the best time of year and the best observatory to observe each of the three objects.\n",
      "\n",
      "- The best time of year should be a two week period of time during the year 2015.\n",
      "- Pick a single night durning this two week time period.\n",
      "- Determine the rising, setting, and transit times (local time) for the three objects at each of the observatories for this night.\n",
      "- The best place to observe will be where the object has the highest altitude at transit."
     ]
    },
    {
     "cell_type": "code",
     "collapsed": false,
     "input": [],
     "language": "python",
     "metadata": {},
     "outputs": []
    },
    {
     "cell_type": "markdown",
     "metadata": {},
     "source": [
      "### Part II - The return of Halley's comet"
     ]
    },
    {
     "cell_type": "markdown",
     "metadata": {},
     "source": [
      "#### Halley's comet will return to the inner solar system in June to August of 2061.\n",
      "- The orbital data for Halley's comet is given in today's notes\n",
      "- Determine the ($\\alpha, \\delta$) coordinates of Halley's comet on July 24, 2061 at 0:00:00 UTC\n",
      "- Determine the angular seperation between Halley's comet and the Sun on this date.\n",
      "- Determine the (alt,az) coordinates for Halley's comet at sunrise for each of the three observatories on this day.\n",
      "- Which observatory is the best place to see Halley's comet at local sunrise July 24, 2061?"
     ]
    },
    {
     "cell_type": "code",
     "collapsed": false,
     "input": [],
     "language": "python",
     "metadata": {},
     "outputs": []
    },
    {
     "cell_type": "markdown",
     "metadata": {},
     "source": [
      "---\n",
      "\n",
      "### Observatories\n",
      "\n",
      "Mauna Kea Observatories (Mauna Kea, Hawaii)\n",
      "- lat = 19:49:33.41\n",
      "- lon = -155:28:28.99\n",
      "- elevation = 4159 m\n",
      "- Time = UTC - 10h\n",
      "\n",
      "Siding Spring Observatory (Coonabarabran, Australia)\n",
      "- lat = -31.2733\n",
      "- lon = 149.0644\n",
      "- elevation = 1165 m\n",
      "- Time = UTC + 10h\n",
      "\n",
      "Roque de los Muchachos Observatory (La Palma, Canary Islands)\n",
      "- lat = 28:45:25\n",
      "- lon = -17:53:33\n",
      "- elevation = 2396 m\n",
      "- Time = UTC\n",
      "\n",
      "---\n",
      "\n",
      "### Objects\n",
      "\n",
      "- 30 Doradus (NGC 2070) - * HII Region *\n",
      "- HD 209458 - * G-Type star with a transiting exoplanet *\n",
      "- M51 - * Spiral Galaxy *\n",
      "\n",
      "Use [SIMBAD](http://simbad.u-strasbg.fr/simbad/sim-fbasic) to find the `ICRS` (International Celestial Reference System) coordinates for the objects.\n",
      "\n",
      "---"
     ]
    },
    {
     "cell_type": "markdown",
     "metadata": {},
     "source": [
      "### Due Wed Oct 28 - 5pm\n",
      "- `cp FirstLast_HW5.ipynb ~pikaia/HOMEWORK`\n",
      "- Make sure to change the file name to your name!"
     ]
    }
   ],
   "metadata": {}
  }
 ]
}