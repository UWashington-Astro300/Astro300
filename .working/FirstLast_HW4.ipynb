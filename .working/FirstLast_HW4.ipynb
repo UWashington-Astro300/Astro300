{
 "metadata": {
  "name": "",
  "signature": "sha256:24bf3b150705193e1742115480db77443a0585ab0ecc3d043c5f140f27a2a1fc"
 },
 "nbformat": 3,
 "nbformat_minor": 0,
 "worksheets": [
  {
   "cells": [
    {
     "cell_type": "markdown",
     "metadata": {},
     "source": [
      "##First Last - Homework \\#4"
     ]
    },
    {
     "cell_type": "code",
     "collapsed": false,
     "input": [
      "import numpy as np\n",
      "import pandas as pd\n",
      "\n",
      "from FindE import FindE, FindT"
     ],
     "language": "python",
     "metadata": {},
     "outputs": []
    },
    {
     "cell_type": "code",
     "collapsed": false,
     "input": [
      "!./MJD 1 28 2015"
     ],
     "language": "python",
     "metadata": {},
     "outputs": []
    },
    {
     "cell_type": "code",
     "collapsed": false,
     "input": [
      "date = 57050"
     ],
     "language": "python",
     "metadata": {},
     "outputs": []
    },
    {
     "cell_type": "markdown",
     "metadata": {},
     "source": [
      "### Read in dataset `PLANETS.csv`\n",
      "\n",
      "- `The columns for the dataset 'PLANETS.csv' are: T0, a, ecc, i, O, w, M0, Name`"
     ]
    },
    {
     "cell_type": "code",
     "collapsed": false,
     "input": [],
     "language": "python",
     "metadata": {},
     "outputs": []
    },
    {
     "cell_type": "markdown",
     "metadata": {},
     "source": [
      "### Write a function to find the mean motion (n) for the objects"
     ]
    },
    {
     "cell_type": "code",
     "collapsed": false,
     "input": [
      "# n(Mars) = 0.5240\n",
      "\n"
     ],
     "language": "python",
     "metadata": {},
     "outputs": []
    },
    {
     "cell_type": "markdown",
     "metadata": {},
     "source": [
      "### Write a function to find the Mean Anomaly of the objects for today M(date)\n",
      "- Make sure 0 < M(date) < 360"
     ]
    },
    {
     "cell_type": "code",
     "collapsed": false,
     "input": [
      "# M(57050)  Mars = 24.44\n",
      "\n"
     ],
     "language": "python",
     "metadata": {},
     "outputs": []
    },
    {
     "cell_type": "markdown",
     "metadata": {},
     "source": [
      "### Find the number of days, from today, for the next perihelion of all the objects\n",
      "\n",
      "Your output should look like:\n",
      "- `For Mars, the next perihelion will be in 640 days.`"
     ]
    },
    {
     "cell_type": "code",
     "collapsed": false,
     "input": [],
     "language": "python",
     "metadata": {},
     "outputs": [],
     "prompt_number": 4
    },
    {
     "cell_type": "markdown",
     "metadata": {},
     "source": [
      "### Write a function to find `r` for the objects\n",
      "* The Functions `FindE` and `FindT` are provided:\n",
      "  * `FindE(ecc,M)` returns **E** in degrees\n",
      "  * `FindT(ecc,E)` returns **T** in degrees"
     ]
    },
    {
     "cell_type": "code",
     "collapsed": false,
     "input": [
      "# r(Mars) = 1.397\n",
      "\n"
     ],
     "language": "python",
     "metadata": {},
     "outputs": []
    },
    {
     "cell_type": "markdown",
     "metadata": {},
     "source": [
      "### Write 3 functions to find the `(X,Y,Z)` of the objects\n",
      "\n",
      "- Start with finding Z (it is the easiest)\n",
      "- Make sure all `np.sin(), np.cos()` are in radians"
     ]
    },
    {
     "cell_type": "code",
     "collapsed": false,
     "input": [
      "# Mars: X = 1.390 Y = 0.133 Z = -0.031\n",
      "\n"
     ],
     "language": "python",
     "metadata": {},
     "outputs": []
    },
    {
     "cell_type": "markdown",
     "metadata": {},
     "source": [
      "### Print out the distances of all of the objects from the Earth\n",
      "\n",
      "Your output should look like:\n",
      "\n",
      "- `The distance from the Earth to Mars is 2.09213223517 AU`"
     ]
    },
    {
     "cell_type": "code",
     "collapsed": false,
     "input": [],
     "language": "python",
     "metadata": {},
     "outputs": []
    },
    {
     "cell_type": "markdown",
     "metadata": {},
     "source": [
      "### Due Tue Feb 3 - 5pm\n",
      "- `cp FirstLast_HW4.ipynb ~pikaia/HOMEWORK/`\n",
      "- Make sure to change the file name to your name!"
     ]
    },
    {
     "cell_type": "code",
     "collapsed": false,
     "input": [],
     "language": "python",
     "metadata": {},
     "outputs": []
    }
   ],
   "metadata": {}
  }
 ]
}