{
 "metadata": {
  "name": "",
  "signature": "sha256:3eba77a7068f4a1ef0d74a038318a433f62802d77a13317e8bc5be19f9b8071d"
 },
 "nbformat": 3,
 "nbformat_minor": 0,
 "worksheets": [
  {
   "cells": [
    {
     "cell_type": "markdown",
     "metadata": {},
     "source": [
      "##IPython notebooks are a browser-based python environment that integrates:\n",
      "- Text\n",
      "- Executable python code\n",
      "- Plots and images\n",
      "- Rendered mathematical equations"
     ]
    },
    {
     "cell_type": "markdown",
     "metadata": {},
     "source": [
      "The basic unit of a IPython notebook is a `cell`. A `cell` can contain any of the above elements. "
     ]
    },
    {
     "cell_type": "markdown",
     "metadata": {},
     "source": [
      "In a notebook, to run a cell of code, hit `Shift-Enter`. This executes the cell and puts the cursor in the next cell below, or makes a new one if you are at the end.  Alternately, you can use:\n",
      "    \n",
      "- `Alt-Enter` to force the creation of a new cell unconditionally (useful when inserting new content in the middle of an existing notebook).\n",
      "- `Control-Enter` executes the cell and keeps the cursor in the same cell, useful for quick experimentation of snippets that you don't need to keep permanently."
     ]
    },
    {
     "cell_type": "code",
     "collapsed": false,
     "input": [
      "print \"Hello World!\""
     ],
     "language": "python",
     "metadata": {},
     "outputs": []
    },
    {
     "cell_type": "code",
     "collapsed": false,
     "input": [
      "# lines that begin with a # are treated as comment lines and not executed\n",
      "\n",
      "#print \"This line is not printed\"\n",
      "\n",
      "print \"This line is printed\""
     ],
     "language": "python",
     "metadata": {},
     "outputs": []
    },
    {
     "cell_type": "markdown",
     "metadata": {},
     "source": [
      "###`UNIX` commands can be run by placing a `!` before the command:"
     ]
    },
    {
     "cell_type": "code",
     "collapsed": false,
     "input": [
      "!ls"
     ],
     "language": "python",
     "metadata": {},
     "outputs": []
    },
    {
     "cell_type": "markdown",
     "metadata": {},
     "source": [
      "##NumPy (Numerical Python) is the fundamental package for scientific computing with Python."
     ]
    },
    {
     "cell_type": "markdown",
     "metadata": {},
     "source": [
      "### Load the numpy library:"
     ]
    },
    {
     "cell_type": "code",
     "collapsed": false,
     "input": [
      "import numpy as np"
     ],
     "language": "python",
     "metadata": {},
     "outputs": []
    },
    {
     "cell_type": "raw",
     "metadata": {},
     "source": [
      "  **   <-- for exponentiation  (e.g. 2 ** 4 = 16)\n",
      "\n",
      "  % for remainder or modulo, 400%360 = 40\n",
      "\n",
      "  ==  equal to                      !=  not equal to\n",
      "  >   greater than                  <   less than\n",
      "  >=  greater than or equal to      <=  less than or equal to\n",
      "\n",
      "  x += 2 same as x = x + 2\n",
      "\n",
      "  can also use  -=  *=  /=  **=\n",
      "\n",
      "  np.arctan (or np.arcsin, np.arccos)\n",
      "\n",
      "  np.degrees(x) np.radians(x)    <-- Convert between radians and degrees"
     ]
    },
    {
     "cell_type": "markdown",
     "metadata": {},
     "source": [
      "###pi and e are  built-in constants:"
     ]
    },
    {
     "cell_type": "code",
     "collapsed": true,
     "input": [
      "print np.pi, np.e"
     ],
     "language": "python",
     "metadata": {},
     "outputs": []
    },
    {
     "cell_type": "markdown",
     "metadata": {},
     "source": [
      "###Watch out for integer division!"
     ]
    },
    {
     "cell_type": "code",
     "collapsed": false,
     "input": [
      "print 1/3"
     ],
     "language": "python",
     "metadata": {},
     "outputs": []
    },
    {
     "cell_type": "code",
     "collapsed": false,
     "input": [
      "print 1.0/3.0"
     ],
     "language": "python",
     "metadata": {},
     "outputs": []
    },
    {
     "cell_type": "markdown",
     "metadata": {},
     "source": [
      "##Our basic unit will be the NumPy array"
     ]
    },
    {
     "cell_type": "code",
     "collapsed": false,
     "input": [
      "# Make an array of 15 random floats in the range 1 - 20\n",
      "\n",
      "x = np.random.uniform(1,20,15)\n",
      "print x"
     ],
     "language": "python",
     "metadata": {},
     "outputs": []
    },
    {
     "cell_type": "code",
     "collapsed": false,
     "input": [
      "print x[0]    # Print the 0th element of the array x"
     ],
     "language": "python",
     "metadata": {},
     "outputs": []
    },
    {
     "cell_type": "code",
     "collapsed": false,
     "input": [
      "print x[-1]    # Print the last element of the array x"
     ],
     "language": "python",
     "metadata": {},
     "outputs": []
    },
    {
     "cell_type": "markdown",
     "metadata": {},
     "source": [
      "## Slices\n",
      "\n",
      "`x[start:stop:step]`\n",
      " \n",
      "- `start` is the first item that you want [default = first element]\n",
      "- `stop`  is the first item that you **do not** want [default = last element]\n",
      "- `step`  defines size of `step` and whether you are moving forwards (positive) or backwards (negative) [default = 1]"
     ]
    },
    {
     "cell_type": "code",
     "collapsed": false,
     "input": [
      "print x[0:4]"
     ],
     "language": "python",
     "metadata": {},
     "outputs": []
    },
    {
     "cell_type": "code",
     "collapsed": false,
     "input": [
      "print x[:4]"
     ],
     "language": "python",
     "metadata": {},
     "outputs": []
    },
    {
     "cell_type": "code",
     "collapsed": false,
     "input": [
      "print x[0:4:2]"
     ],
     "language": "python",
     "metadata": {},
     "outputs": []
    },
    {
     "cell_type": "code",
     "collapsed": false,
     "input": [
      "print x[3::-1]"
     ],
     "language": "python",
     "metadata": {},
     "outputs": []
    },
    {
     "cell_type": "code",
     "collapsed": false,
     "input": [
      "print x[::-1]   # Reverse the array x"
     ],
     "language": "python",
     "metadata": {},
     "outputs": []
    },
    {
     "cell_type": "code",
     "collapsed": false,
     "input": [
      "print x[-5:]    # last 5 elements of the array x"
     ],
     "language": "python",
     "metadata": {},
     "outputs": []
    },
    {
     "cell_type": "markdown",
     "metadata": {},
     "source": [
      "##There are lots of different `methods` that can be applied to a NumPy array"
     ]
    },
    {
     "cell_type": "code",
     "collapsed": false,
     "input": [
      "print x.size                    # Number of elements in x"
     ],
     "language": "python",
     "metadata": {},
     "outputs": []
    },
    {
     "cell_type": "code",
     "collapsed": false,
     "input": [
      "print x.mean()                  # Average of the elements in x"
     ],
     "language": "python",
     "metadata": {},
     "outputs": []
    },
    {
     "cell_type": "code",
     "collapsed": false,
     "input": [
      "print x.sum()                   # Total of the elements in x"
     ],
     "language": "python",
     "metadata": {},
     "outputs": []
    },
    {
     "cell_type": "code",
     "collapsed": false,
     "input": [
      "print x[-5:].sum()              # Total of last 5 elements in x"
     ],
     "language": "python",
     "metadata": {},
     "outputs": []
    },
    {
     "cell_type": "code",
     "collapsed": false,
     "input": [
      "print x.cumsum()                # Cumulative sum"
     ],
     "language": "python",
     "metadata": {},
     "outputs": []
    },
    {
     "cell_type": "code",
     "collapsed": false,
     "input": [
      "print x.cumsum()/x.sum()        # Cumulative percentage"
     ],
     "language": "python",
     "metadata": {},
     "outputs": []
    },
    {
     "cell_type": "raw",
     "metadata": {},
     "source": [
      "x.[TAB] will give you all of the possibilites as a drop-down menu."
     ]
    },
    {
     "cell_type": "markdown",
     "metadata": {},
     "source": [
      "###Help about a function:"
     ]
    },
    {
     "cell_type": "code",
     "collapsed": false,
     "input": [
      "?x.min"
     ],
     "language": "python",
     "metadata": {},
     "outputs": []
    },
    {
     "cell_type": "markdown",
     "metadata": {},
     "source": [
      "##NumPy math works over an entire array:"
     ]
    },
    {
     "cell_type": "code",
     "collapsed": false,
     "input": [
      "y = x * 2\n",
      "print y"
     ],
     "language": "python",
     "metadata": {},
     "outputs": []
    },
    {
     "cell_type": "code",
     "collapsed": false,
     "input": [
      "print sin(x)     # need to Numpy's math functions"
     ],
     "language": "python",
     "metadata": {},
     "outputs": []
    },
    {
     "cell_type": "code",
     "collapsed": false,
     "input": [
      "print np.sin(x)"
     ],
     "language": "python",
     "metadata": {},
     "outputs": []
    },
    {
     "cell_type": "code",
     "collapsed": false,
     "input": [
      "print x + y"
     ],
     "language": "python",
     "metadata": {},
     "outputs": []
    },
    {
     "cell_type": "markdown",
     "metadata": {},
     "source": [
      "##Masking - The key to fast programs"
     ]
    },
    {
     "cell_type": "code",
     "collapsed": false,
     "input": [
      "mask1 = np.where(x>10)\n",
      "print x\n",
      "print mask1"
     ],
     "language": "python",
     "metadata": {},
     "outputs": []
    },
    {
     "cell_type": "code",
     "collapsed": false,
     "input": [
      "print x[mask1]\n",
      "print y[mask1]"
     ],
     "language": "python",
     "metadata": {},
     "outputs": []
    },
    {
     "cell_type": "code",
     "collapsed": false,
     "input": [
      "mask2 = np.where((x>5) & (x<15))\n",
      "print x[mask2]"
     ],
     "language": "python",
     "metadata": {},
     "outputs": []
    },
    {
     "cell_type": "markdown",
     "metadata": {},
     "source": [
      "##Fancy masking"
     ]
    },
    {
     "cell_type": "code",
     "collapsed": false,
     "input": [
      "mask3 = np.where(x > 9)\n",
      "print x[mask3]"
     ],
     "language": "python",
     "metadata": {},
     "outputs": []
    },
    {
     "cell_type": "code",
     "collapsed": false,
     "input": [
      "# Set all values of x that match mask3 to 0\n",
      "\n",
      "x[mask3] = 0\n",
      "print x"
     ],
     "language": "python",
     "metadata": {},
     "outputs": []
    },
    {
     "cell_type": "code",
     "collapsed": false,
     "input": [
      "mask4 = np.where(x != 0)\n",
      "print mask4"
     ],
     "language": "python",
     "metadata": {},
     "outputs": []
    },
    {
     "cell_type": "code",
     "collapsed": false,
     "input": [
      "#Add 10 to every value of x that matches mask4:\n",
      "\n",
      "x[mask4] += 100\n",
      "print x"
     ],
     "language": "python",
     "metadata": {},
     "outputs": []
    },
    {
     "cell_type": "markdown",
     "metadata": {},
     "source": [
      "## Sorting"
     ]
    },
    {
     "cell_type": "code",
     "collapsed": false,
     "input": [
      "z = np.random.randint(1,99,25)     # 25 random int between 1,99\n",
      "\n",
      "print z\n",
      "print np.sort(z)"
     ],
     "language": "python",
     "metadata": {},
     "outputs": []
    },
    {
     "cell_type": "code",
     "collapsed": false,
     "input": [
      "print np.sort(z)[0:4]"
     ],
     "language": "python",
     "metadata": {},
     "outputs": []
    },
    {
     "cell_type": "code",
     "collapsed": false,
     "input": [
      "# Returns the indices that would sort an array\n",
      "\n",
      "print np.argsort(z)"
     ],
     "language": "python",
     "metadata": {},
     "outputs": []
    },
    {
     "cell_type": "code",
     "collapsed": false,
     "input": [
      "print z\n",
      "print z[np.argsort(z)]"
     ],
     "language": "python",
     "metadata": {},
     "outputs": []
    },
    {
     "cell_type": "code",
     "collapsed": false,
     "input": [
      "mask = np.argsort(z)\n",
      "\n",
      "print z\n",
      "print z[mask]"
     ],
     "language": "python",
     "metadata": {},
     "outputs": []
    },
    {
     "cell_type": "markdown",
     "metadata": {},
     "source": [
      "## Reading in data - The `Pandas` package"
     ]
    },
    {
     "cell_type": "code",
     "collapsed": false,
     "input": [
      "import pandas as pd"
     ],
     "language": "python",
     "metadata": {},
     "outputs": []
    },
    {
     "cell_type": "code",
     "collapsed": false,
     "input": [
      "!cat SomeData.csv"
     ],
     "language": "python",
     "metadata": {},
     "outputs": []
    },
    {
     "cell_type": "code",
     "collapsed": false,
     "input": [
      "T = pd.read_csv('SomeData.csv')\n",
      "print T"
     ],
     "language": "python",
     "metadata": {},
     "outputs": []
    },
    {
     "cell_type": "code",
     "collapsed": false,
     "input": [
      "T.rename(columns={'Unnamed: 2': 'Name'}, inplace=True)\n",
      "\n",
      "print T"
     ],
     "language": "python",
     "metadata": {},
     "outputs": []
    },
    {
     "cell_type": "code",
     "collapsed": false,
     "input": [
      "print T['a']"
     ],
     "language": "python",
     "metadata": {},
     "outputs": []
    },
    {
     "cell_type": "code",
     "collapsed": false,
     "input": [
      "print T['a'][0]"
     ],
     "language": "python",
     "metadata": {},
     "outputs": []
    },
    {
     "cell_type": "code",
     "collapsed": false,
     "input": [
      "print T.sort(['b'])"
     ],
     "language": "python",
     "metadata": {},
     "outputs": []
    },
    {
     "cell_type": "code",
     "collapsed": false,
     "input": [
      "print T.sort(['band','Name'])"
     ],
     "language": "python",
     "metadata": {},
     "outputs": []
    },
    {
     "cell_type": "code",
     "collapsed": false,
     "input": [
      "mask6 = T['b'] <= 55\n",
      "\n",
      "print mask6\n",
      "\n",
      "print T[mask6]"
     ],
     "language": "python",
     "metadata": {},
     "outputs": []
    },
    {
     "cell_type": "code",
     "collapsed": false,
     "input": [
      "mask7 = (T['b'] <= 55) & (T['band'] == 'Who')\n",
      "\n",
      "print T[mask7]"
     ],
     "language": "python",
     "metadata": {},
     "outputs": []
    },
    {
     "cell_type": "markdown",
     "metadata": {},
     "source": [
      "## Functions"
     ]
    },
    {
     "cell_type": "code",
     "collapsed": false,
     "input": [
      "def george(x,y):\n",
      "    \n",
      "    yrad = np.radians(y)\n",
      "    result = x**2 * np.sin(yrad)\n",
      "    return result"
     ],
     "language": "python",
     "metadata": {},
     "outputs": []
    },
    {
     "cell_type": "code",
     "collapsed": false,
     "input": [
      "GeorgeResult = george(T['a'],T['b'])\n",
      "\n",
      "print GeorgeResult"
     ],
     "language": "python",
     "metadata": {},
     "outputs": []
    },
    {
     "cell_type": "markdown",
     "metadata": {},
     "source": [
      "### Adding columns to tables"
     ]
    },
    {
     "cell_type": "code",
     "collapsed": false,
     "input": [
      "T['Z'] = GeorgeResult\n",
      "\n",
      "print T"
     ],
     "language": "python",
     "metadata": {},
     "outputs": []
    },
    {
     "cell_type": "code",
     "collapsed": false,
     "input": [
      "print T.sort(['Z'])"
     ],
     "language": "python",
     "metadata": {},
     "outputs": []
    },
    {
     "cell_type": "code",
     "collapsed": false,
     "input": [
      "T.to_csv('newfile.csv', index=False)"
     ],
     "language": "python",
     "metadata": {},
     "outputs": []
    },
    {
     "cell_type": "code",
     "collapsed": false,
     "input": [
      "!cat newfile.csv"
     ],
     "language": "python",
     "metadata": {},
     "outputs": []
    },
    {
     "cell_type": "code",
     "collapsed": false,
     "input": [],
     "language": "python",
     "metadata": {},
     "outputs": []
    }
   ],
   "metadata": {}
  }
 ]
}