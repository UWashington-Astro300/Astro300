{
 "metadata": {
  "name": "",
  "signature": "sha256:f7e5a835dc5286f4d019b38e0ba82aebd2d773acb8a02a83384feaac9f23023a"
 },
 "nbformat": 3,
 "nbformat_minor": 0,
 "worksheets": [
  {
   "cells": [
    {
     "cell_type": "markdown",
     "metadata": {},
     "source": [
      "## First Last - Homework 6"
     ]
    },
    {
     "cell_type": "code",
     "collapsed": false,
     "input": [
      "%matplotlib inline\n",
      "\n",
      "import numpy as np\n",
      "from astropy.io import ascii\n",
      "import matplotlib.pyplot as plt"
     ],
     "language": "python",
     "metadata": {},
     "outputs": []
    },
    {
     "cell_type": "markdown",
     "metadata": {},
     "source": [
      "### The file `SDSS_MainBelt.csv` contains data on objects in the asteroid belt collected by the [Sloan Digital Sky Survey](http://www.sdss.org/).\n",
      "\n",
      "The columns are:\n",
      "- **`Name`** - Object name\n",
      "- **`a`** - semi-major axis\n",
      "- **`cA`** - SDSS a$^*$ color\n",
      "- **`cI`** - SDSS i color (near infrared)\n",
      "- **`cZ`** - SDSS z color (infrared)\n",
      "- **`X`** - X position [au] - Sun-centered coords (10/29/2014)\n",
      "- **`Y`** - Y position [au] - Sun-centered coords (10/29/2014)\n",
      "- **`Z`** - Z position [au] - Sun-centered coords (10/29/2014)"
     ]
    },
    {
     "cell_type": "markdown",
     "metadata": {},
     "source": [
      "### Read in the file `SDSS_MainBelt.csv`"
     ]
    },
    {
     "cell_type": "code",
     "collapsed": false,
     "input": [
      "T = ascii.read('SDSS_MainBelt.csv')\n",
      "\n",
      "print T"
     ],
     "language": "python",
     "metadata": {},
     "outputs": []
    },
    {
     "cell_type": "markdown",
     "metadata": {},
     "source": [
      "## The Kirkwood Gaps\n",
      "- Orbital period [years]: `P` = a$^{3/2}$\n",
      "- Orbital Period of Jupiter: `Pjup` = 11.8618 years\n",
      "- Make a histogram of: `Pjup / P`\n",
      "- Bins = 150\n",
      "- Invert the x-axis\n",
      "- Draw vertical lines at `Pjup / P` = 1,2,3,4\n",
      "- Label the axis\n",
      "- Make the plot look nice"
     ]
    },
    {
     "cell_type": "code",
     "collapsed": false,
     "input": [
      "P = T['a'] ** (3.0/2.0)\n",
      "\n",
      "Pjup = 11.8618\n",
      "\n",
      "fig,ax = plt.subplots(1,1)                  # One window\n",
      "fig.set_size_inches(10,7)                   # (width,height)\n",
      "\n",
      "fig.tight_layout()\n",
      "\n",
      "ax.invert_xaxis()\n",
      "\n",
      "ax.spines['top'].set_visible(False)         # Turn off the top axis line\n",
      "ax.spines['right'].set_visible(False)       # Turn off the right axis line\n",
      "\n",
      "ax.get_xaxis().tick_bottom()                # Put the ticks on the bottom axis\n",
      "ax.get_yaxis().tick_left()                  # Put the ticks on the left axis\n",
      "\n",
      "plt.hist(Pjup/P, bins=150, facecolor='r');"
     ],
     "language": "python",
     "metadata": {},
     "outputs": []
    },
    {
     "cell_type": "markdown",
     "metadata": {},
     "source": [
      "## The Position of Asteroids \n",
      "- Make a plot of X vs Y for the asteroids \n",
      "- Make sure that 1 unit in X = 1 unit in Y\n",
      "- Make the axes go through (0,0)"
     ]
    },
    {
     "cell_type": "code",
     "collapsed": false,
     "input": [
      "fig, ax = plt.subplots(1,1)\n",
      "fig.set_size_inches(10,10)                   # (width,height)\n",
      "\n",
      "fig.tight_layout()\n",
      "\n",
      "ax.set_aspect('equal')\n",
      "ax.set_xlim(-6,6)\n",
      "ax.set_ylim(-6,6)\n",
      "\n",
      "ax.spines['top'].set_visible(False)         # Turn off the top axis line\n",
      "ax.spines['right'].set_visible(False)       # Turn off the right axis line\n",
      "\n",
      "ax.spines['bottom'].set_position('zero')    # Move the bottom axis line to x = 0\n",
      "ax.spines['left'].set_position('zero')    # Move the bottom axis line to x = 0\n",
      "\n",
      "ax.get_xaxis().tick_bottom()                # Put the ticks on the bottom axis\n",
      "ax.get_yaxis().tick_left()                  # Put the ticks on the left axis\n",
      "\n",
      "ax.plot(T['X'], T['Y'],color=\"c\",marker=\"o\",linestyle=\"None\",markersize=4);"
     ],
     "language": "python",
     "metadata": {},
     "outputs": []
    },
    {
     "cell_type": "markdown",
     "metadata": {},
     "source": [
      "## The Color of Asteroids \n",
      "- Make three (3) plots in one row\n",
      "- In each panel, put the plot of asteroid position from above. Use alpha = 0.20\n",
      "- In the first panel, overplot the positions of C-Type asteroids using a different color and symbol\n",
      "- In the second panel, overplot the positions of S-Type asteroids using a different color and symbol\n",
      "- In the third panel, overplot the positions of V-Type asteroids using a different color and symbol\n",
      "- The asteroid types can be determined from their colors (see image below)"
     ]
    },
    {
     "cell_type": "code",
     "collapsed": false,
     "input": [
      "fig, ax = plt.subplots(1,3)\n",
      "fig.set_size_inches(15,5)                   # (width,height)\n",
      "\n",
      "fig.tight_layout()\n",
      "\n",
      "iz = T['cI'] - T['cZ']\n",
      "\n",
      "maskV = np.where((T['cA'] > 0.0) & (iz < -0.15))\n",
      "maskS = np.where((T['cA'] > 0.0) & (iz > -0.15))\n",
      "maskC = np.where((T['cA'] < 0.0))\n",
      "\n",
      "ax[0].set_aspect('equal')\n",
      "ax[0].set_xlim(-6,6)\n",
      "ax[0].set_ylim(-6,6)\n",
      "ax[0].plot(T['X'], T['Y'],color=\"c\",marker=\"o\",linestyle=\"None\",markersize=4, alpha=0.2)\n",
      "ax[0].plot(T['X'][maskC], T['Y'][maskC],color=\"b\",marker=\"o\",linestyle=\"None\",markersize=3)\n",
      "\n",
      "ax[1].set_aspect('equal')\n",
      "ax[1].set_xlim(-6,6)\n",
      "ax[1].set_ylim(-6,6)\n",
      "ax[1].plot(T['X'], T['Y'],color=\"c\",marker=\"o\",linestyle=\"None\",markersize=4, alpha=0.2)\n",
      "ax[1].plot(T['X'][maskS], T['Y'][maskS],color=\"r\",marker=\"o\",linestyle=\"None\",markersize=3)\n",
      "\n",
      "ax[2].set_aspect('equal')\n",
      "ax[2].set_xlim(-6,6)\n",
      "ax[2].set_ylim(-6,6)\n",
      "ax[2].plot(T['X'], T['Y'],color=\"c\",marker=\"o\",linestyle=\"None\",markersize=4, alpha=0.2)\n",
      "ax[2].plot(T['X'][maskV], T['Y'][maskV],color=\"g\",marker=\"o\",linestyle=\"None\",markersize=3);"
     ],
     "language": "python",
     "metadata": {},
     "outputs": []
    },
    {
     "cell_type": "markdown",
     "metadata": {},
     "source": [
      "## Fitting data to a function\n",
      "- The datafile `'FitMe.dat'` contains two columns of data (x,y)\n",
      "- Plot the data x,y\n",
      "- Fit the function below to the data\n",
      "- Find the values of a,b,c that best fit the data\n",
      "- Plot the fit with the data\n",
      "- Make the plots look nice"
     ]
    },
    {
     "cell_type": "markdown",
     "metadata": {},
     "source": [
      "##$$ f(x) = a \\sin(bx) \\ e^{-cx} $$"
     ]
    },
    {
     "cell_type": "code",
     "collapsed": false,
     "input": [],
     "language": "python",
     "metadata": {},
     "outputs": []
    },
    {
     "cell_type": "markdown",
     "metadata": {},
     "source": [
      "---\n",
      "\n",
      "### Asteroid classes - SDSS Colors\n",
      "\n",
      "---\n",
      "\n",
      "<center><img src=\"/files/Colors.jpg\" width=600px></center>"
     ]
    },
    {
     "cell_type": "markdown",
     "metadata": {},
     "source": [
      "### Due Tues Nov 4 - 5pm\n",
      "- `cp FirstLast_HW6.ipynb ~pikaia/HOMEWORK/`\n",
      "- Make sure to change the file name and Title to your name!"
     ]
    }
   ],
   "metadata": {}
  }
 ]
}