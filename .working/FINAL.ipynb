{
 "metadata": {
  "name": "",
  "signature": "sha256:64b8c811c819b170a30bb716c5201ac9390736fe6137b33c54ebc28009b83cba"
 },
 "nbformat": 3,
 "nbformat_minor": 0,
 "worksheets": [
  {
   "cells": [
    {
     "cell_type": "markdown",
     "metadata": {},
     "source": [
      "##First Last - Homework \\#3"
     ]
    },
    {
     "cell_type": "code",
     "collapsed": false,
     "input": [
      "import numpy as np\n",
      "from astropy.io import ascii"
     ],
     "language": "python",
     "metadata": {},
     "outputs": [],
     "prompt_number": 6
    },
    {
     "cell_type": "markdown",
     "metadata": {},
     "source": [
      "#### The columns for the dataset 'MainBelt.csv' are:\n",
      "\n",
      "* `Col 1: Asteroid Name and Number (string)`\n",
      "* `Col 2: Asteroid Absolute Magnitude (float)`\n",
      "* `Col 3: Asteroid Albedo (float)`"
     ]
    },
    {
     "cell_type": "markdown",
     "metadata": {},
     "source": [
      "### Read in the datafile `MainBelt.csv`"
     ]
    },
    {
     "cell_type": "code",
     "collapsed": false,
     "input": [
      "T = ascii.read('MainBelt.csv')\n",
      "\n",
      "print T"
     ],
     "language": "python",
     "metadata": {},
     "outputs": [
      {
       "output_type": "stream",
       "stream": "stdout",
       "text": [
        "            Name              H     A   \n",
        "---------------------------- ---- ------\n",
        "                     1 Ceres 3.34   0.09\n",
        "                    2 Pallas 4.13 0.1587\n",
        "                      3 Juno 5.33 0.2383\n",
        "                     4 Vesta  3.2 0.4228\n",
        "                   5 Astraea 6.85 0.2268\n",
        "                      6 Hebe 5.71 0.2679\n",
        "                      7 Iris 5.51 0.2766\n",
        "                     8 Flora 6.49 0.2426\n",
        "                     9 Metis 6.28  0.118\n",
        "                   10 Hygiea 5.43 0.0717\n",
        "               11 Parthenope 6.55 0.1803\n",
        "                         ...  ...    ...\n",
        "25000 Astrometria (1998 OW5) 12.6 0.0311\n",
        "           25343 (1999 RA44) 14.2 0.0252\n",
        "           25453 (1999 XU11) 12.5 0.0957\n",
        "          25699 (2000 AD127) 12.6 0.0346\n",
        "           25785 (2000 CY45) 13.4 0.0238\n",
        "           25843 (2000 EQ84) 13.3 0.0167\n",
        "             26125 (1992 RG) 13.0 0.0975\n",
        "            26171 (1996 BY2) 14.0  0.048\n",
        "            26260 (1998 RA2) 13.3  0.067\n",
        "           26604 (2000 FO25) 12.8 0.4331\n",
        "          26662 (2000 WB181) 14.5 0.0186\n"
       ]
      }
     ],
     "prompt_number": 7
    },
    {
     "cell_type": "markdown",
     "metadata": {},
     "source": [
      "### Write two python functions to compute the Diameters and Masses of the MBAs"
     ]
    },
    {
     "cell_type": "code",
     "collapsed": false,
     "input": [
      "D = 1329 / np.sqrt(T['A']) * 10 ** (-0.2 * T['H'])\n",
      "\n",
      "mask = np.where(D>200.0)\n",
      "\n",
      "mask2 = np.where((D>240) & (D<255))\n",
      "\n",
      "print D[mask]\n",
      "\n",
      "print T['Name'][mask]"
     ],
     "language": "python",
     "metadata": {},
     "outputs": [
      {
       "output_type": "stream",
       "stream": "stdout",
       "text": [
        "      A      \n",
        "-------------\n",
        " 951.48890004\n",
        "498.008227327\n",
        "233.863777175\n",
        " 468.22811936\n",
        "214.577399298\n",
        "407.160278834\n",
        "207.633778206\n",
        "255.291668813\n",
        " 253.15829803\n",
        " 259.07417205\n",
        "212.194848465\n",
        "255.932280293\n",
        "214.577136257\n",
        "221.785263492\n",
        "302.385569424\n",
        " 200.52278181\n",
        " 204.75118934\n",
        "229.374512765\n",
        "208.747540101\n",
        "224.894224073\n",
        "326.082957299\n",
        "222.365945753\n",
        "316.463063775\n",
        "          Name          \n",
        "------------------------\n",
        "                 1 Ceres\n",
        "                2 Pallas\n",
        "                  3 Juno\n",
        "                 4 Vesta\n",
        "                 9 Metis\n",
        "               10 Hygiea\n",
        "               13 Egeria\n",
        "              15 Eunomia\n",
        "               16 Psyche\n",
        "              19 Fortuna\n",
        "           29 Amphitrite\n",
        "           31 Euphrosyne\n",
        "              45 Eugenia\n",
        "                48 Doris\n",
        "               52 Europa\n",
        "               88 Thisbe\n",
        "               94 Aurora\n",
        "            324 Bamberga\n",
        "   423 Diotima (1896 DB)\n",
        " 451 Patientia (1899 EY)\n",
        "    511 Davida (1903 LU)\n",
        " 532 Herculina (1904 NY)\n",
        "704 Interamnia (1910 KU)\n"
       ]
      }
     ],
     "prompt_number": 21
    },
    {
     "cell_type": "code",
     "collapsed": false,
     "input": [],
     "language": "python",
     "metadata": {},
     "outputs": []
    },
    {
     "cell_type": "markdown",
     "metadata": {},
     "source": [
      "### List the names of the 5 most massive MBAs"
     ]
    },
    {
     "cell_type": "code",
     "collapsed": false,
     "input": [],
     "language": "python",
     "metadata": {},
     "outputs": []
    },
    {
     "cell_type": "markdown",
     "metadata": {},
     "source": [
      "### List the names of the 5 least massive MBAs"
     ]
    },
    {
     "cell_type": "code",
     "collapsed": false,
     "input": [],
     "language": "python",
     "metadata": {},
     "outputs": []
    },
    {
     "cell_type": "markdown",
     "metadata": {},
     "source": [
      "### Determine the total mass of all of the MBAs"
     ]
    },
    {
     "cell_type": "code",
     "collapsed": false,
     "input": [],
     "language": "python",
     "metadata": {},
     "outputs": []
    },
    {
     "cell_type": "markdown",
     "metadata": {},
     "source": [
      "### Determine the fraction of the total mass contained in the 5 largest MBAs"
     ]
    },
    {
     "cell_type": "code",
     "collapsed": false,
     "input": [],
     "language": "python",
     "metadata": {},
     "outputs": []
    },
    {
     "cell_type": "markdown",
     "metadata": {},
     "source": [
      "### How does the total mass of the MBAs compare to the mass of the Moon ($7.35\\ \\times\\ 10^{22}$ kg)?"
     ]
    },
    {
     "cell_type": "code",
     "collapsed": false,
     "input": [],
     "language": "python",
     "metadata": {},
     "outputs": []
    },
    {
     "cell_type": "markdown",
     "metadata": {},
     "source": [
      "### How many MBAs does it take to get 90% of the total mass of the MBAs"
     ]
    },
    {
     "cell_type": "code",
     "collapsed": false,
     "input": [],
     "language": "python",
     "metadata": {},
     "outputs": []
    },
    {
     "cell_type": "markdown",
     "metadata": {},
     "source": [
      "### Due Wed Oct 14 - 5pm\n",
      "- `cp FirstLast_HW3.ipynb ~pikaia/HOMEWORK`\n",
      "- `Make sure to change the file name to your name!`"
     ]
    }
   ],
   "metadata": {}
  }
 ]
}