{
 "cells": [
  {
   "cell_type": "markdown",
   "metadata": {},
   "source": [
    "## First Last - Homework \\#3"
   ]
  },
  {
   "cell_type": "code",
   "execution_count": null,
   "metadata": {
    "collapsed": false
   },
   "outputs": [],
   "source": [
    "import numpy as np\n",
    "import pandas as pd"
   ]
  },
  {
   "cell_type": "code",
   "execution_count": null,
   "metadata": {
    "collapsed": false
   },
   "outputs": [],
   "source": [
    "!./MJD 10 21 2015"
   ]
  },
  {
   "cell_type": "code",
   "execution_count": null,
   "metadata": {
    "collapsed": false
   },
   "outputs": [],
   "source": [
    "date = 57316"
   ]
  },
  {
   "cell_type": "markdown",
   "metadata": {},
   "source": [
    "### The dataset `NEO.cvs` contains data for the 8 classical planets and 11 objects classified as potentially hazardous asteroids\n",
    "\n",
    "- Read in dataset `NEO.csv`\n",
    "- `The columns for the dataset 'Objects.csv' are: Name, a, ecc, T0, M0, H, A, Class`"
   ]
  },
  {
   "cell_type": "code",
   "execution_count": null,
   "metadata": {
    "collapsed": false
   },
   "outputs": [],
   "source": [
    "T = pd.read_csv(\"NEO.csv\")\n",
    "T"
   ]
  },
  {
   "cell_type": "markdown",
   "metadata": {},
   "source": [
    "### Determine how many of the NEOs cross the orbits of Venus, Earth, and Mars (all three of them)"
   ]
  },
  {
   "cell_type": "code",
   "execution_count": null,
   "metadata": {
    "collapsed": true
   },
   "outputs": [],
   "source": []
  },
  {
   "cell_type": "markdown",
   "metadata": {},
   "source": [
    "### Write a function to find the mean motion (n) for the objects"
   ]
  },
  {
   "cell_type": "code",
   "execution_count": null,
   "metadata": {
    "collapsed": false
   },
   "outputs": [],
   "source": [
    "# n(Mars) = 0.5240\n",
    "\n",
    "def Findn(a):\n",
    "    result = 0.98560 * a ** (-3/2)\n",
    "    return result"
   ]
  },
  {
   "cell_type": "code",
   "execution_count": null,
   "metadata": {
    "collapsed": false
   },
   "outputs": [],
   "source": [
    "N = Findn(T['a'])\n",
    "N[:10]"
   ]
  },
  {
   "cell_type": "markdown",
   "metadata": {},
   "source": [
    "### Write a function to find the Mean Anomaly of the objects for today M(date)\n",
    "- Make sure 0 < M(date) < 360"
   ]
  },
  {
   "cell_type": "code",
   "execution_count": null,
   "metadata": {
    "collapsed": false
   },
   "outputs": [],
   "source": [
    "# M(57316)  Mars = 163.83\n",
    "\n",
    "def FindM(date,epoch,n,M):\n",
    "  Mt = M + n * (date - epoch)\n",
    "  return Mt%360"
   ]
  },
  {
   "cell_type": "code",
   "execution_count": null,
   "metadata": {
    "collapsed": false
   },
   "outputs": [],
   "source": [
    "Mt = FindM(date,T['T0'], N, T['M0'])\n",
    "Mt[:10]"
   ]
  },
  {
   "cell_type": "markdown",
   "metadata": {},
   "source": [
    "### Find the number of days, from today, for the next perihelion of all the classical Planets\n",
    "\n",
    "- Your output should be 8 lines that look like:\n",
    "- `For Mars, the next perihelion will be in 128 days.`"
   ]
  },
  {
   "cell_type": "code",
   "execution_count": null,
   "metadata": {
    "collapsed": false
   },
   "outputs": [],
   "source": [
    "NextPeri = (360.0 - Mt) / N\n",
    "\n",
    "#print NextPeri\n",
    "\n",
    "for i,j in enumerate(T['Name'][T['Class']=='PLA']):\n",
    "    \n",
    "    text = \"For \" + j + \", the next perihelion will be in \" + str(int(NextPeri[i])) + \" days\"\n",
    "    print(text)"
   ]
  },
  {
   "cell_type": "markdown",
   "metadata": {},
   "source": [
    "### Determine how many 1 MT yield nuclear weapons will be needed to destroy each of the NEOs.\n",
    "\n",
    "- Assume $\\rho$ = 3,000 kg/m$^3$\n",
    "- 1 MT = 1e6 tons TNT.  (1 ton TNT $= 4.18 \\times 10^9 \\ {\\rm J \\ [kg \\cdot m^2/s^2]}$).\n",
    "- Your output should be 11 lines that look like:\n",
    "  - `It would take [number] 1 MT yield nuclear weapons to destory the asteroid [Name]`"
   ]
  },
  {
   "cell_type": "code",
   "execution_count": null,
   "metadata": {
    "collapsed": false
   },
   "outputs": [],
   "source": [
    "def FindD(H,A):\n",
    "    \n",
    "    den = 3000 * 1e6\n",
    "    result = (1329/np.sqrt(A)) * (10 ** (-0.2 * H))\n",
    "    return result"
   ]
  },
  {
   "cell_type": "code",
   "execution_count": null,
   "metadata": {
    "collapsed": false
   },
   "outputs": [],
   "source": [
    "T['D'] = FindD(T['H'], T['A'])\n",
    "\n",
    "T['Peri'] = T['a'] * (1.0 - T['ecc'])\n",
    "T['Api'] = T['a'] * (1.0 + T['ecc'])\n",
    "\n",
    "T"
   ]
  },
  {
   "cell_type": "code",
   "execution_count": null,
   "metadata": {
    "collapsed": false
   },
   "outputs": [],
   "source": []
  },
  {
   "cell_type": "markdown",
   "metadata": {},
   "source": [
    "### Due Tue Oct 27 - 5pm\n",
    "- `cp FirstLast_HW3.ipynb ~pikaia/HOMEWORK/`\n",
    "- Make sure to change the file name to your name!\n",
    "- Make sure to change the file title to your name!"
   ]
  },
  {
   "cell_type": "markdown",
   "metadata": {
    "collapsed": false
   },
   "source": [
    "---"
   ]
  },
  {
   "cell_type": "markdown",
   "metadata": {},
   "source": [
    "## Some Orbital Mechanics\n",
    "\n",
    "Kepler's first law says: *The orbit of every planet is an ellipse with the sun at one focus*. The Semimajor axis **a** and the eccentricity **ecc** parametrize the size and shape of the ellipse. The units of **a** in our dataset are Astronomical Units (AU), the average distance between the Sun and the Earth.\n",
    "\n",
    "![Orbit Diagram](images/Orbit.jpg)\n",
    "\n",
    "For a closed elliptical orbit (orbits gravitationally bound to the Sun), $ecc = \\sqrt{1 - {b^2}/{a^2}}$, where **a** and **b** are the semimajor and semiminor axes. As you can see from the equation, when **a** = **b**, **ecc** = 0 (a circle), and when **a** $>>$ **b**, **ecc** approaches 1. When **ecc** = 1, the orbit is a parabolic orbit (just bound). When **ecc** $>$ 1 the orbit is a hyperbolic orbit (unbound).\n",
    "\n",
    "The point in the object's orbit where it is closest to the Sun is called the **perihelion** (periapsis). The farthest point in the orbit is called the **aphelion** (apoapsis). The **perihelion** and **aphelion** distances depend on **a** and **ecc** via:\n",
    "\n",
    "- Perihelion distance [AU] = $a\\ (1.0 - ecc)$\n",
    "- Aphelion distance [AU]: $a\\ (1.0 + ecc)$\n",
    "\n",
    "An object will cross an orbit with a semi-major axis of **X** if:\n",
    "\n",
    "$$ Perihelion(object)\\ <\\ \\textbf{X}\\ <\\ Aphelion(object)$$\n",
    "\n",
    "---\n",
    "\n",
    "The Mean anomaly at epoch **M** is the fraction of the orbital period that has elapsed since the last perihelion.  Think of it as a way to indicate the position of an object along its orbit at a specific time (epoch).\n",
    "\n",
    "- At Perihelion M = 0$^{\\circ}$ (360$^{\\circ}$)\n",
    "- At Aphelion M = 180$^{\\circ}$\n",
    "\n",
    "As the names implies, the Mean anomaly at epoch specifies the position of an object at a specific time.  If we want to know the Mean anomaly at a different time we can find that by the equation:\n",
    "\n",
    "$$ \n",
    "M(t) = M_0 + n(t-t_0)\n",
    "$$\n",
    "\n",
    "where $M_0$ is the mean anomaly at time $t_0$, and $n$ is the\n",
    "mean motion.\n",
    "\n",
    "The mean motion can be thought of as the average daily motion of\n",
    "the object along its orbit:\n",
    "\n",
    "$$\n",
    "n = \\sqrt{\\frac{G{\\cal M}_\\odot}{a^3}}\n",
    "\\hspace{20mm} {\\rm For\\ \\textbf{a}\\ in\\ [AU]} \\hspace{20mm}\n",
    "n = 0.98560\\ a^{-{3}/{2}}\\\n",
    "\\left[\\frac{degrees}{day}\\right]\n",
    "$$\n"
   ]
  },
  {
   "cell_type": "markdown",
   "metadata": {},
   "source": [
    "---"
   ]
  },
  {
   "cell_type": "markdown",
   "metadata": {},
   "source": [
    "## Blowing up an asteroid\n",
    "\n",
    "The self gravitational potential energy of a uniform sphere of mass (m) and diameter (d) is:\n",
    "\n",
    "$$\n",
    "PE \\ = \\ \\frac{6}{5} \\cdot \\frac{Gm^2}{d}\n",
    "\\hspace{2cm}\n",
    "G = 6.67384 \\times 10^{-11} \\ \\mbox{m}^3 \\ \\mbox{kg}^{-1} \\\n",
    "\\mbox{s}^{-2} \\\n",
    "$$  \n",
    "\n",
    "This is the amount of energy you need to give the sphere to move all of its components pieces infinitely far away (i.e. to destroy it!).\n",
    "\n",
    "Remember that the mass and diameter of the asteroid is derived from its absolute magnitude **H** and albedo **A**."
   ]
  }
 ],
 "metadata": {
  "kernelspec": {
   "display_name": "Python 3",
   "language": "python",
   "name": "python3"
  },
  "language_info": {
   "codemirror_mode": {
    "name": "ipython",
    "version": 3
   },
   "file_extension": ".py",
   "mimetype": "text/x-python",
   "name": "python",
   "nbconvert_exporter": "python",
   "pygments_lexer": "ipython3",
   "version": "3.4.3"
  }
 },
 "nbformat": 4,
 "nbformat_minor": 0
}
