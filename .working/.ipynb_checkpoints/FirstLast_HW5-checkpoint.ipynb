{
 "cells": [
  {
   "cell_type": "markdown",
   "metadata": {},
   "source": [
    "## First Last - Homework \\#4"
   ]
  },
  {
   "cell_type": "code",
   "execution_count": null,
   "metadata": {
    "collapsed": false
   },
   "outputs": [],
   "source": [
    "import numpy as np\n",
    "import ephem"
   ]
  },
  {
   "cell_type": "markdown",
   "metadata": {},
   "source": [
    "## Planning observations"
   ]
  },
  {
   "cell_type": "markdown",
   "metadata": {},
   "source": [
    "### I have given you data on three observatories and three celestial objects. Your job is to determine the best time of year and the best observatory to observe each of the three objects.\n",
    "\n",
    "- The best time of year should be a two week period of time during the year 2015.\n",
    "- Pick a single night durning this two week time period.\n",
    "- Determine the rising, setting, and transit times (local time) for the three objects at each of the observatories for this night.\n",
    "- The best place to observe will be where the object has the highest altitude at transit."
   ]
  },
  {
   "cell_type": "code",
   "execution_count": null,
   "metadata": {
    "collapsed": false
   },
   "outputs": [],
   "source": []
  },
  {
   "cell_type": "markdown",
   "metadata": {},
   "source": [
    "---\n",
    "\n",
    "### Observatories\n",
    "\n",
    "Mauna Kea Observatories (Mauna Kea, Hawaii)\n",
    "- lat = 19:49:33.41\n",
    "- lon = -155:28:28.99\n",
    "- elevation = 4159 m\n",
    "- Time = UTC - 10h\n",
    "\n",
    "Siding Spring Observatory (Coonabarabran, Australia)\n",
    "- lat = -31.2733\n",
    "- lon = 149.0644\n",
    "- elevation = 1165 m\n",
    "- Time = UTC + 10h\n",
    "\n",
    "Roque de los Muchachos Observatory (La Palma, Canary Islands)\n",
    "- lat = 28:45:25\n",
    "- lon = -17:53:33\n",
    "- elevation = 2396 m\n",
    "- Time = UTC\n",
    "\n",
    "---\n",
    "\n",
    "### Objects\n",
    "\n",
    "- 30 Doradus (NGC 2070) - * HII Region *\n",
    "- HD 209458 - * G-Type star with a transiting exoplanet *\n",
    "- M51 - * Spiral Galaxy *\n",
    "\n",
    "Use [SIMBAD](http://simbad.u-strasbg.fr/simbad/sim-fbasic) to find the `ICRS` (International Celestial Reference System) coordinates for the objects.\n",
    "\n",
    "---"
   ]
  },
  {
   "cell_type": "markdown",
   "metadata": {},
   "source": [
    "### Due Tue Nov 03 - 5pm\n",
    "- `cp FirstLast_HW4.ipynb ~pikaia/HOMEWORK`\n",
    "- Make sure to change the file name to your name!\n",
    "- Make sure to change the title to your name!"
   ]
  }
 ],
 "metadata": {
  "kernelspec": {
   "display_name": "Python 3",
   "language": "python",
   "name": "python3"
  },
  "language_info": {
   "codemirror_mode": {
    "name": "ipython",
    "version": 3
   },
   "file_extension": ".py",
   "mimetype": "text/x-python",
   "name": "python",
   "nbconvert_exporter": "python",
   "pygments_lexer": "ipython3",
   "version": "3.4.3"
  }
 },
 "nbformat": 4,
 "nbformat_minor": 0
}
