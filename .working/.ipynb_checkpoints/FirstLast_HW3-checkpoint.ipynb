{
 "cells": [
  {
   "cell_type": "markdown",
   "metadata": {},
   "source": [
    "## First Last - Homework \\#3"
   ]
  },
  {
   "cell_type": "code",
   "execution_count": null,
   "metadata": {
    "collapsed": false
   },
   "outputs": [],
   "source": [
    "import numpy as np\n",
    "import pandas as pd"
   ]
  },
  {
   "cell_type": "markdown",
   "metadata": {},
   "source": [
    "## The dataset `PHA.cvs` contains data for 10 objects classified as potentially hazardous asteroids\n",
    "\n",
    "- Read in dataset `PHA.csv`\n",
    "- `The columns for the dataset 'Objects.csv' are: Name, a, ecc, H, A`"
   ]
  },
  {
   "cell_type": "code",
   "execution_count": null,
   "metadata": {
    "collapsed": false
   },
   "outputs": [],
   "source": []
  },
  {
   "cell_type": "markdown",
   "metadata": {},
   "source": [
    "## Determine the speed of each of the PHAs at r = 1 AU.\n",
    "\n",
    "- Express your answer in km/sec with 2 digits after the decimal.\n",
    "- Your answers should be of the order of 10's of km/sec\n",
    "- Your output should be 10 lines that look like:\n",
    "    - `The speed of [Name] at 1 AU would be [SPEED] km/sec`"
   ]
  },
  {
   "cell_type": "code",
   "execution_count": null,
   "metadata": {
    "collapsed": true
   },
   "outputs": [],
   "source": []
  },
  {
   "cell_type": "markdown",
   "metadata": {},
   "source": [
    "## Determine the kinetic energy each PHA whould have impact the surface of the Earth\n",
    "\n",
    "- Express your answer in Megatons [MT] of TNT with 2 digits after the decimal\n",
    "- 1 MT = 1 million tons TNT.  (1 ton TNT $= 4.18 \\times 10^9 \\ {\\rm J \\ [kg \\cdot m^2/s^2]}$).\n",
    "- Your output should be 10 lines that look like:\n",
    "    - `The asteroid [Name] would hit the Earth with the energy of [X] megatons of TNT`"
   ]
  },
  {
   "cell_type": "code",
   "execution_count": null,
   "metadata": {
    "collapsed": true
   },
   "outputs": [],
   "source": []
  },
  {
   "cell_type": "markdown",
   "metadata": {},
   "source": [
    "## Determine how many 1 MT nuclear weapons will be needed to destroy each of the PHAs.\n",
    "\n",
    "- Assume $\\rho$ = 3,000 kg/m$^3$\n",
    "- Your output should be 10 lines that look like:\n",
    "  - `It would take [X] 1 MT yield nuclear weapons to destory the asteroid [Name]`"
   ]
  },
  {
   "cell_type": "code",
   "execution_count": null,
   "metadata": {
    "collapsed": false
   },
   "outputs": [],
   "source": []
  },
  {
   "cell_type": "markdown",
   "metadata": {},
   "source": [
    "### Due Tue Oct 27 - 5pm\n",
    "- `cp FirstLast_HW3.ipynb ~pikaia/HOMEWORK/`\n",
    "- Make sure to change the file name to your name!\n",
    "- Make sure to change the file title to your name!"
   ]
  },
  {
   "cell_type": "markdown",
   "metadata": {
    "collapsed": false
   },
   "source": [
    "---"
   ]
  },
  {
   "cell_type": "markdown",
   "metadata": {},
   "source": [
    "## Some Orbital Mechanics\n",
    "\n",
    "Kepler's first law says: *The orbit of every planet is an ellipse with the sun at one focus*. The Semimajor axis **a** and the eccentricity **ecc** parametrize the size and shape of the ellipse. The units of **a** in our dataset are Astronomical Units (AU), the average distance between the Sun and the Earth.\n",
    "\n",
    "![Orbit Diagram](images/Orbit.jpg)\n",
    "\n",
    "For a closed elliptical orbit (orbits gravitationally bound to the Sun), $ecc = \\sqrt{1 - {b^2}/{a^2}}$, where **a** and **b** are the semimajor and semiminor axes. As you can see from the equation, when **a** = **b**, **ecc** = 0 (a circle), and when **a** $>>$ **b**, **ecc** approaches 1. When **ecc** = 1, the orbit is a parabolic orbit (just bound). When **ecc** $>$ 1 the orbit is a hyperbolic orbit (unbound).\n",
    "\n",
    "---\n",
    "\n",
    "The speed of an object on an elliptical orbit around the Sun at a distance **r** from the Sun is:\n",
    "\n",
    "$$ \\large\n",
    "v\\ =\\ \\sqrt{GM_{\\odot}\\ \\left(\\frac{2}{r} - \\frac{1}{a}\\right)}\n",
    "$$\n",
    "\n",
    "- a: semi-major axis\n",
    "- $ G = 6.67384 \\times 10^{-11} \\ \\mbox{m}^3 \\ \\mbox{kg}^{-1} \\ \\mbox{s}^{-2} $\n",
    "- $ M_{\\odot} = 1.98855 \\times 10^{30}\\ \\mbox{kg} $\n",
    "- $ 1\\ \\mbox{AU} = 1.4960 \\times 10^{11}\\ \\mbox{m} $\n",
    "\n",
    "---"
   ]
  },
  {
   "cell_type": "markdown",
   "metadata": {},
   "source": [
    "## Encountering the Earth\n",
    "\n",
    "The encounter speed of an asteroid meeting the Earth at 1 AU is (assuimg aligned orbits):\n",
    "\n",
    "$$ \\large\n",
    "V_{\\textrm{encounter}}\\ =\\ V_{\\textrm{asteroid at 1AU}}\\ -\\ V_{\\textrm{Earth}}\n",
    "$$\n",
    "\n",
    "Where $V_{\\textrm{Earth}}\\ =\\ 30\\ \\textrm{km/s}$\n",
    "\n",
    "## Hitting the Earth\n",
    "\n",
    "The impact speed of an asteroid hitting the Earth is:\n",
    "\n",
    "$$ \\large\n",
    "V_{\\textrm{impact}}\\ =\\ \\sqrt{V_{\\textrm{encounter}}^2 + V_{\\textrm{escape}}^2}\n",
    "$$\n",
    "\n",
    "Where $V_{\\textrm{escape}}\\ = 11.2\\ km/s$\n",
    "\n",
    "---"
   ]
  },
  {
   "cell_type": "markdown",
   "metadata": {},
   "source": [
    "## Blowing up an asteroid\n",
    "\n",
    "The self gravitational potential energy of a uniform sphere of mass (m) and diameter (d) is:\n",
    "\n",
    "$$ \\large\n",
    "PE \\ = \\ \\frac{6}{5} \\cdot \\frac{Gm^2}{d}\n",
    "$$  \n",
    "\n",
    "This is the amount of energy you need to give the sphere to move all of its components pieces infinitely far away (i.e. to destroy it!).\n",
    "\n",
    "Remember that the mass and diameter of the asteroid is derived from its absolute magnitude **H** and albedo **A**."
   ]
  }
 ],
 "metadata": {
  "kernelspec": {
   "display_name": "Python 3",
   "language": "python",
   "name": "python3"
  },
  "language_info": {
   "codemirror_mode": {
    "name": "ipython",
    "version": 3
   },
   "file_extension": ".py",
   "mimetype": "text/x-python",
   "name": "python",
   "nbconvert_exporter": "python",
   "pygments_lexer": "ipython3",
   "version": "3.4.3"
  }
 },
 "nbformat": 4,
 "nbformat_minor": 0
}
