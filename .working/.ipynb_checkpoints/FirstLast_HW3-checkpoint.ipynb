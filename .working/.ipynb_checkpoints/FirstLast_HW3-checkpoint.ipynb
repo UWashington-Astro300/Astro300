{
 "cells": [
  {
   "cell_type": "markdown",
   "metadata": {},
   "source": [
    "## First Last - Homework \\#3"
   ]
  },
  {
   "cell_type": "code",
   "execution_count": null,
   "metadata": {
    "collapsed": false
   },
   "outputs": [],
   "source": [
    "import numpy as np\n",
    "import pandas as pd"
   ]
  },
  {
   "cell_type": "code",
   "execution_count": null,
   "metadata": {
    "collapsed": false
   },
   "outputs": [],
   "source": [
    "!./MJD 1 28 2015"
   ]
  },
  {
   "cell_type": "code",
   "execution_count": null,
   "metadata": {
    "collapsed": false
   },
   "outputs": [],
   "source": [
    "date = 57050"
   ]
  },
  {
   "cell_type": "markdown",
   "metadata": {},
   "source": [
    "### Read in dataset `PLANETS.csv`\n",
    "\n",
    "- `The columns for the dataset 'PLANETS.csv' are: T0, a, ecc, i, O, w, M0, Name`"
   ]
  },
  {
   "cell_type": "code",
   "execution_count": null,
   "metadata": {
    "collapsed": false
   },
   "outputs": [],
   "source": []
  },
  {
   "cell_type": "markdown",
   "metadata": {},
   "source": [
    "### Write a function to find the mean motion (n) for the objects"
   ]
  },
  {
   "cell_type": "code",
   "execution_count": null,
   "metadata": {
    "collapsed": false
   },
   "outputs": [],
   "source": [
    "# n(Mars) = 0.5240\n",
    "\n"
   ]
  },
  {
   "cell_type": "markdown",
   "metadata": {},
   "source": [
    "### Write a function to find the Mean Anomaly of the objects for today M(date)\n",
    "- Make sure 0 < M(date) < 360"
   ]
  },
  {
   "cell_type": "code",
   "execution_count": null,
   "metadata": {
    "collapsed": false
   },
   "outputs": [],
   "source": [
    "# M(57050)  Mars = 24.44\n",
    "\n"
   ]
  },
  {
   "cell_type": "markdown",
   "metadata": {},
   "source": [
    "### Find the number of days, from today, for the next perihelion of all the objects\n",
    "\n",
    "Your output should look like:\n",
    "- `For Mars, the next perihelion will be in 640 days.`"
   ]
  },
  {
   "cell_type": "code",
   "execution_count": 4,
   "metadata": {
    "collapsed": false
   },
   "outputs": [],
   "source": []
  },
  {
   "cell_type": "markdown",
   "metadata": {},
   "source": [
    "### Write a function to find `r` for the objects\n",
    "* The Functions `FindE` and `FindT` are provided:\n",
    "  * `FindE(ecc,M)` returns **E** in degrees\n",
    "  * `FindT(ecc,E)` returns **T** in degrees"
   ]
  },
  {
   "cell_type": "code",
   "execution_count": null,
   "metadata": {
    "collapsed": false
   },
   "outputs": [],
   "source": [
    "# r(Mars) = 1.397\n",
    "\n"
   ]
  },
  {
   "cell_type": "markdown",
   "metadata": {},
   "source": [
    "### Write 3 functions to find the `(X,Y,Z)` of the objects\n",
    "\n",
    "- Start with finding Z (it is the easiest)\n",
    "- Make sure all `np.sin(), np.cos()` are in radians"
   ]
  },
  {
   "cell_type": "code",
   "execution_count": null,
   "metadata": {
    "collapsed": false
   },
   "outputs": [],
   "source": [
    "# Mars: X = 1.390 Y = 0.133 Z = -0.031\n",
    "\n"
   ]
  },
  {
   "cell_type": "markdown",
   "metadata": {},
   "source": [
    "### Print out the distances of all of the objects from the Earth\n",
    "\n",
    "Your output should look like:\n",
    "\n",
    "- `The distance from the Earth to Mars is 2.09213223517 AU`"
   ]
  },
  {
   "cell_type": "code",
   "execution_count": null,
   "metadata": {
    "collapsed": false
   },
   "outputs": [],
   "source": []
  },
  {
   "cell_type": "markdown",
   "metadata": {},
   "source": [
    "### Due Tue Feb 3 - 5pm\n",
    "- `cp FirstLast_HW4.ipynb ~pikaia/HOMEWORK/`\n",
    "- Make sure to change the file name to your name!"
   ]
  },
  {
   "cell_type": "markdown",
   "metadata": {
    "collapsed": false
   },
   "source": [
    "---"
   ]
  },
  {
   "cell_type": "markdown",
   "metadata": {},
   "source": [
    "## Some Orbital Mechanics\n",
    "\n",
    "Kepler's first law says: *The orbit of every planet is an ellipse with the sun at one focus*. The Semimajor axis **a** and the eccentricity **ecc** parametrize the size and shape of the ellipse. The units of **a** in our dataset are Astronomical Units (AU), the average distance between the Sun and the Earth.\n",
    "\n",
    "![Orbit Diagram](images/Orbit.jpg)\n",
    "\n",
    "For a closed elliptical orbit (orbits gravitationally bound to the Sun), $ecc = \\sqrt{1 - {b^2}/{a^2}}$, where **a** and **b** are the semimajor and semiminor axes. As you can see from the equation, when **a** = **b**, **ecc** = 0 (a circle), and when **a** $>>$ **b**, **ecc** approaches 1. When **ecc** = 1, the orbit is a parabolic orbit (just bound). When **ecc** $>$ 1 the orbit is a hyperbolic orbit (unbound).\n",
    "\n",
    "The point in the object's orbit where it is closest to the Sun is called the **perihelion** (periapsis). The farthest point in the orbit is called the **aphelion** (apoapsis). The **perihelion** and **aphelion** distances depend on **a** and **ecc** via:\n",
    "\n",
    "- Perihelion distance [AU] = $a\\ (1.0 - ecc)$\n",
    "- Aphelion distance [AU]: $a\\ (1.0 + ecc)$\n",
    "\n",
    "The Mean anomaly at epoch **M** is the fraction of the orbital period that has elapsed since the last perihelion.  Think of it as a way to indicate the position of an object along its orbit at a specific time (epoch).\n",
    "\n",
    "- At Perihelion M = 0$^{\\circ}$ (360$^{\\circ}$)\n",
    "- At Aphelion M = 180$^{\\circ}$\n",
    "\n",
    "As the names implies, the Mean anomaly at epoch specifies the position of an object at a specific time.  If we want to know the Mean anomaly at a different time we can find that by the equation:\n",
    "\n",
    "$$ \n",
    "M(t) = M_0 + n(t-t_0)\n",
    "$$\n",
    "\n",
    "where $M_0$ is the mean anomaly at time $t_0$, and $n$ is the\n",
    "mean motion.\n",
    "\n",
    "The mean motion can be thought of as the average daily motion of\n",
    "the object along its orbit:\n",
    "\n",
    "$$\n",
    "n = \\sqrt{\\frac{G{\\cal M}_\\odot}{a^3}}\n",
    "\\hspace{20mm} {\\rm For\\ \\textbf{a}\\ in\\ [AU]} \\hspace{20mm}\n",
    "n = 0.98560\\ a^{-{3}/{2}}\\\n",
    "\\left[\\frac{degrees}{day}\\right]\n",
    "$$\n"
   ]
  },
  {
   "cell_type": "markdown",
   "metadata": {},
   "source": [
    "---"
   ]
  },
  {
   "cell_type": "markdown",
   "metadata": {},
   "source": [
    "## Blowing up an asteroid\n",
    "\n",
    "The self gravitational potential energy of a uniform sphere of mass (m) and diameter (d) is:\n",
    "\n",
    "$$\n",
    "PE \\ = \\ \\frac{6}{5} \\cdot \\frac{Gm^2}{d}\n",
    "\\hspace{2cm}\n",
    "G = 6.67384 \\times 10^{-11} \\ \\mbox{m}^3 \\ \\mbox{kg}^{-1} \\\n",
    "\\mbox{s}^{-2} \\\n",
    "$$  \n",
    "\n",
    "This is the amount of energy you need to give the sphere to move all of its components pieces infinitely far away (i.e. to destroy it!).\n",
    "\n",
    "Remember that the mass and diameter of the asteroid is derived from its absolute magnitude **H** and albedo **A**.\n",
    "\n",
    "How many 1 MT yield nuclear weapons will be needed to destroy\n",
    "each object.\\\\ 1 MT = 1e6 tons TNT.  (1 ton TNT $= 4.18 \\times 10^9 \\\n",
    "{\\rm J \\ [kg \\cdot m^2/s^2]}$)."
   ]
  },
  {
   "cell_type": "code",
   "execution_count": null,
   "metadata": {
    "collapsed": true
   },
   "outputs": [],
   "source": []
  }
 ],
 "metadata": {
  "kernelspec": {
   "display_name": "Python 3",
   "language": "python",
   "name": "python3"
  },
  "language_info": {
   "codemirror_mode": {
    "name": "ipython",
    "version": 3
   },
   "file_extension": ".py",
   "mimetype": "text/x-python",
   "name": "python",
   "nbconvert_exporter": "python",
   "pygments_lexer": "ipython3",
   "version": "3.4.3"
  }
 },
 "nbformat": 4,
 "nbformat_minor": 0
}
