{
 "cells": [
  {
   "cell_type": "markdown",
   "metadata": {},
   "source": [
    "## Multidimentional data - Matrices and Images"
   ]
  },
  {
   "cell_type": "code",
   "execution_count": null,
   "metadata": {
    "collapsed": false
   },
   "outputs": [],
   "source": [
    "%matplotlib inline\n",
    "\n",
    "import numpy as np\n",
    "import matplotlib.pyplot as plt\n",
    "\n",
    "from scipy import linalg\n",
    "\n"
   ]
  },
  {
   "cell_type": "code",
   "execution_count": null,
   "metadata": {
    "collapsed": true
   },
   "outputs": [],
   "source": [
    "\n",
    "plt.style.use('ggplot')\n",
    "plt.rc('axes', grid=False)   # turn off the background grid for images"
   ]
  },
  {
   "cell_type": "markdown",
   "metadata": {},
   "source": [
    "Let us work with the matrix:\n",
    "$\n",
    "\\left[\n",
    "\\begin{array}{cc}\n",
    "1 & 2 \\\\\n",
    "1 & 1\n",
    "\\end{array}\n",
    "\\right]\n",
    "$"
   ]
  },
  {
   "cell_type": "code",
   "execution_count": null,
   "metadata": {
    "collapsed": false
   },
   "outputs": [],
   "source": [
    "M = np.array([[1,2],[1,1]])\n",
    "\n",
    "M, M.shape"
   ]
  },
  {
   "cell_type": "code",
   "execution_count": null,
   "metadata": {
    "collapsed": false
   },
   "outputs": [],
   "source": [
    "N = np.transpose(M)\n",
    "\n",
    "N, N.shape"
   ]
  },
  {
   "cell_type": "code",
   "execution_count": null,
   "metadata": {
    "collapsed": false
   },
   "outputs": [],
   "source": [
    "IM = linalg.inv(M)\n",
    "\n",
    "IM"
   ]
  },
  {
   "cell_type": "markdown",
   "metadata": {},
   "source": [
    "### numpy matrix multiply uses the `dot()` function:"
   ]
  },
  {
   "cell_type": "code",
   "execution_count": null,
   "metadata": {
    "collapsed": false
   },
   "outputs": [],
   "source": [
    "IM.dot(M)"
   ]
  },
  {
   "cell_type": "markdown",
   "metadata": {},
   "source": [
    "### Caution the `*` will just multiply the matricies on an element-by-element basis:"
   ]
  },
  {
   "cell_type": "code",
   "execution_count": null,
   "metadata": {
    "collapsed": false
   },
   "outputs": [],
   "source": [
    "IM * M"
   ]
  },
  {
   "cell_type": "markdown",
   "metadata": {},
   "source": [
    "### Solving system of linear equations"
   ]
  },
  {
   "cell_type": "markdown",
   "metadata": {},
   "source": [
    "$$\n",
    "\\begin{array}{c}\n",
    "x + 2y = 4 \\\\\n",
    "x + y = 3 \\\\\n",
    "\\end{array}\n",
    "\\hspace{2cm}\n",
    "\\left[\n",
    "\\begin{array}{cc}\n",
    "1 & 2 \\\\\n",
    "1 & 1 \\\\\n",
    "\\end{array}\n",
    "\\right]\n",
    "\\left[\n",
    "\\begin{array}{c}\n",
    "x\\\\\n",
    "y\n",
    "\\end{array}\n",
    "\\right]\n",
    "=\n",
    "\\left[\n",
    "\\begin{array}{c}\n",
    "4\\\\\n",
    "3\\\\ \n",
    "\\end{array}\n",
    "\\right]\n",
    "\\hspace{2cm}\n",
    "{\\bf A}x = {\\bf b}\n",
    "\\hspace{2cm}\n",
    "\\left[\n",
    "\\begin{array}{c}\n",
    "x\\\\\n",
    "y\n",
    "\\end{array}\n",
    "\\right]\n",
    "=\n",
    "\\left[\n",
    "\\begin{array}{cc}\n",
    "1 & 2 \\\\\n",
    "1 & 1 \\\\\n",
    "\\end{array}\n",
    "\\right]^{-1}\n",
    "\\left[\n",
    "\\begin{array}{c}\n",
    "4\\\\\n",
    "3\\\\ \n",
    "\\end{array}\n",
    "\\right]\n",
    "=\n",
    "\\left[\n",
    "\\begin{array}{c}\n",
    "2\\\\\n",
    "1\n",
    "\\end{array}\n",
    "\\right]\n",
    "$$"
   ]
  },
  {
   "cell_type": "code",
   "execution_count": null,
   "metadata": {
    "collapsed": false
   },
   "outputs": [],
   "source": [
    "A = np.array([[1,2],[1,1]])\n",
    "\n",
    "A, A.shape"
   ]
  },
  {
   "cell_type": "code",
   "execution_count": null,
   "metadata": {
    "collapsed": false
   },
   "outputs": [],
   "source": [
    "b = np.array([[4],[3]])\n",
    "\n",
    "b, b.shape"
   ]
  },
  {
   "cell_type": "code",
   "execution_count": null,
   "metadata": {
    "collapsed": false
   },
   "outputs": [],
   "source": [
    "# Solve by inverting A and then mulitply by b\n",
    "\n",
    "linalg.inv(A).dot(b) "
   ]
  },
  {
   "cell_type": "code",
   "execution_count": null,
   "metadata": {
    "collapsed": false
   },
   "outputs": [],
   "source": [
    "# Slightly faster, but cleaner looking\n",
    "\n",
    "linalg.solve(A,b)"
   ]
  },
  {
   "cell_type": "code",
   "execution_count": null,
   "metadata": {
    "collapsed": false
   },
   "outputs": [],
   "source": [
    "%timeit linalg.inv(A).dot(b)\n",
    "%timeit linalg.solve(A,b)"
   ]
  },
  {
   "cell_type": "markdown",
   "metadata": {},
   "source": [
    "### System of 3 equations example (Numpy):"
   ]
  },
  {
   "cell_type": "markdown",
   "metadata": {},
   "source": [
    "$$\n",
    "\\begin{array}{c}\n",
    "x + 3y + 5z = 10 \\\\\n",
    "2x + 5y + z = 8 \\\\\n",
    "2x + 3y + 8z = 3 \\\\\n",
    "\\end{array}\n",
    "\\hspace{3cm}\n",
    "\\left[\n",
    "\\begin{array}{ccc}\n",
    "1 & 3 & 5 \\\\\n",
    "2 & 5 & 1 \\\\\n",
    "2 & 3 & 8 \n",
    "\\end{array}\n",
    "\\right]\n",
    "\\left[\n",
    "\\begin{array}{c}\n",
    "x\\\\\n",
    "y\\\\\n",
    "z \n",
    "\\end{array}\n",
    "\\right]\n",
    "=\n",
    "\\left[\n",
    "\\begin{array}{c}\n",
    "10\\\\\n",
    "8\\\\\n",
    "3 \n",
    "\\end{array}\n",
    "\\right]\n",
    "$$"
   ]
  },
  {
   "cell_type": "code",
   "execution_count": null,
   "metadata": {
    "collapsed": false
   },
   "outputs": [],
   "source": [
    "A = np.array([[1,3,5],[2,5,1],[2,3,8]])\n",
    "b = np.array([[10],[8],[3]])\n",
    "\n",
    "print(linalg.inv(A))\n",
    "\n",
    "print(linalg.solve(A,b))"
   ]
  },
  {
   "cell_type": "markdown",
   "metadata": {},
   "source": [
    "### System of 3 equations example (SymPy) - Python's Symbolic Math Package"
   ]
  },
  {
   "cell_type": "code",
   "execution_count": null,
   "metadata": {
    "collapsed": false
   },
   "outputs": [],
   "source": [
    "import sympy as sym\n",
    "\n",
    "AA = sym.Matrix([[1,3,5],[2,5,1],[2,3,8]])\n",
    "bb = sym.Matrix([[10],[8],[3]])\n",
    "\n",
    "AA**-1,AA**-1 * bb"
   ]
  },
  {
   "cell_type": "markdown",
   "metadata": {},
   "source": [
    "### SymPy is slower than NumPy"
   ]
  },
  {
   "cell_type": "code",
   "execution_count": null,
   "metadata": {
    "collapsed": false
   },
   "outputs": [],
   "source": [
    "%timeit AA**-1 * bb\n",
    "%timeit linalg.solve(A,b)"
   ]
  },
  {
   "cell_type": "markdown",
   "metadata": {},
   "source": [
    "# Images are just 2-d arrays"
   ]
  },
  {
   "cell_type": "code",
   "execution_count": null,
   "metadata": {
    "collapsed": false
   },
   "outputs": [],
   "source": [
    "print(A)\n",
    "\n",
    "plt.imshow(A, interpolation='nearest', cmap=plt.cm.Blues);"
   ]
  },
  {
   "cell_type": "markdown",
   "metadata": {},
   "source": [
    "### Create some data"
   ]
  },
  {
   "cell_type": "code",
   "execution_count": null,
   "metadata": {
    "collapsed": false
   },
   "outputs": [],
   "source": [
    "np.random.seed(42)\n",
    "I = np.random.triangular(-3, 0, 8, (512,256))     # Create a 512x256 array of data in a Triangular distribution\n",
    "                                                  # Think of this as a 2-d array of height = 512, width = 256"
   ]
  },
  {
   "cell_type": "code",
   "execution_count": null,
   "metadata": {
    "collapsed": false
   },
   "outputs": [],
   "source": [
    "I.ndim, I.shape, I.dtype"
   ]
  },
  {
   "cell_type": "code",
   "execution_count": null,
   "metadata": {
    "collapsed": false
   },
   "outputs": [],
   "source": [
    "print(\"The minimum value of the array I is {0:.2f}\".format(I.min()))\n",
    "print(\"The maximum value of the array I is {0:.2f}\".format(I.max()))\n",
    "print(\"The mean value of the array I is {0:.2f}\".format(I.mean()))\n",
    "print(\"The standard deviation of the array I is {0:.2f}\".format(I.std()))"
   ]
  },
  {
   "cell_type": "code",
   "execution_count": null,
   "metadata": {
    "collapsed": false
   },
   "outputs": [],
   "source": [
    "plt.imshow(I, cmap=plt.cm.gray)\n",
    "plt.colorbar();"
   ]
  },
  {
   "cell_type": "markdown",
   "metadata": {},
   "source": [
    "### Colormap reference: http://matplotlib.org/examples/color/colormaps_reference.html"
   ]
  },
  {
   "cell_type": "code",
   "execution_count": null,
   "metadata": {
    "collapsed": false
   },
   "outputs": [],
   "source": [
    "fig, ax = plt.subplots(1,5,sharey=True)\n",
    "\n",
    "fig.set_size_inches(12,6)\n",
    "\n",
    "fig.tight_layout()\n",
    "\n",
    "ax[0].imshow(I, cmap=plt.cm.cool)\n",
    "ax[0].set_xlabel('cool')\n",
    "\n",
    "ax[1].imshow(I, cmap=plt.cm.hot)\n",
    "ax[1].set_xlabel('hot')\n",
    "\n",
    "ax[2].imshow(I, cmap=plt.cm.summer)\n",
    "ax[2].set_xlabel('summer')\n",
    "\n",
    "ax[3].imshow(I, cmap=plt.cm.spectral)\n",
    "ax[3].set_xlabel('spectral')\n",
    "\n",
    "ax[4].imshow(I, cmap=plt.cm.gray)\n",
    "ax[4].set_xlabel('gray')"
   ]
  },
  {
   "cell_type": "code",
   "execution_count": null,
   "metadata": {
    "collapsed": false
   },
   "outputs": [],
   "source": [
    "#flatten collapses n-dimentional data into 1-d\n",
    "\n",
    "plt.hist(I.flatten(),bins=40);"
   ]
  },
  {
   "cell_type": "markdown",
   "metadata": {},
   "source": [
    "#### Math on images applies to every value (pixel)"
   ]
  },
  {
   "cell_type": "code",
   "execution_count": null,
   "metadata": {
    "collapsed": false
   },
   "outputs": [],
   "source": [
    "II = I + 100\n",
    "\n",
    "plt.hist(II.flatten(),bins=40);"
   ]
  },
  {
   "cell_type": "markdown",
   "metadata": {},
   "source": [
    "### WARNING! Common image formats DO NOT preserve dynamic range of original data!!\n",
    "- Common image formates are **NOT** suitable for scientific data!"
   ]
  },
  {
   "cell_type": "code",
   "execution_count": null,
   "metadata": {
    "collapsed": false
   },
   "outputs": [],
   "source": [
    "plt.imsave('TrangleNoise.png', I, cmap=plt.cm.gray)     # Write the array I to a PNG file\n",
    "\n",
    "Ipng = plt.imread('TrangleNoise.png')                   # Read in the PNG file\n",
    "\n",
    "print(\"The original data has a min = {0:.2f} and a max = {1:.2f}\".format(I.min(), I.max()))\n",
    "\n",
    "print(\"The PNG file has a min = {0:.2f} and a max = {1:.2f}\".format(Ipng.min(), Ipng.max()))"
   ]
  },
  {
   "cell_type": "markdown",
   "metadata": {},
   "source": [
    "### Creating images from math"
   ]
  },
  {
   "cell_type": "code",
   "execution_count": null,
   "metadata": {
    "collapsed": false
   },
   "outputs": [],
   "source": [
    "X = np.linspace(-5, 5, 500)\n",
    "Y = np.linspace(-5, 5, 500)\n",
    "\n",
    "X, Y = np.meshgrid(X, Y)     # turns two 1-d arrays (X, Y) into one 2-d grid\n",
    "\n",
    "Z = np.sqrt(X**2+Y**2)+np.sin(X**2+Y**2)\n",
    "\n",
    "Z.min(), Z.max(), Z.mean()"
   ]
  },
  {
   "cell_type": "markdown",
   "metadata": {},
   "source": [
    "### Fancy Image Display"
   ]
  },
  {
   "cell_type": "code",
   "execution_count": null,
   "metadata": {
    "collapsed": false
   },
   "outputs": [],
   "source": [
    "from matplotlib.colors import LightSource\n",
    "\n",
    "ls = LightSource(azdeg=0,altdeg=40)\n",
    "shadedfig = ls.shade(Z,plt.cm.copper)\n",
    "\n",
    "fig, ax = plt.subplots(1,3)\n",
    "\n",
    "fig.set_size_inches(12,6)\n",
    "\n",
    "fig.tight_layout()\n",
    "\n",
    "ax[0].imshow(shadedfig)\n",
    "\n",
    "contlevels = [1,2,Z.mean()]\n",
    "\n",
    "ax[1].axis('equal')\n",
    "ax[1].contour(Z,contlevels)\n",
    "\n",
    "ax[2].imshow(shadedfig)\n",
    "ax[2].contour(Z,contlevels);"
   ]
  },
  {
   "cell_type": "markdown",
   "metadata": {},
   "source": [
    "### Reading in images - Common Formats"
   ]
  },
  {
   "cell_type": "code",
   "execution_count": null,
   "metadata": {
    "collapsed": false
   },
   "outputs": [],
   "source": [
    "I2 = plt.imread('doctor5.png')\n",
    "\n",
    "I2.shape, I2.dtype        # Shapes are Height x Width\n",
    "I2.min(), I2.max()        # Common image types: dynamic range = 0.0 to 1.0"
   ]
  },
  {
   "cell_type": "code",
   "execution_count": null,
   "metadata": {
    "collapsed": false
   },
   "outputs": [],
   "source": [
    "plt.imshow(I2,cmap=plt.cm.gray);"
   ]
  },
  {
   "cell_type": "code",
   "execution_count": null,
   "metadata": {
    "collapsed": false
   },
   "outputs": [],
   "source": [
    "fig, ax = plt.subplots(1,4)\n",
    "fig.set_size_inches(12,6)\n",
    "\n",
    "fig.tight_layout()\n",
    "\n",
    "# You can show just slices of the image:\n",
    "\n",
    "ax[0].imshow(I2, cmap=plt.cm.gray)\n",
    "ax[0].set_xlabel('Original')\n",
    "\n",
    "ax[1].imshow(I2[0:300,0:100], cmap=plt.cm.gray)\n",
    "ax[1].set_xlabel('[0:300,0:100]')\n",
    "\n",
    "ax[2].imshow(I2[:,0:100], cmap=plt.cm.gray)    # \":\" = whole range\n",
    "ax[2].set_xlabel('[:,0:100]')\n",
    "\n",
    "ax[3].imshow(I2[:,::-1], cmap=plt.cm.gray);\n",
    "ax[3].set_xlabel('[:,::-1]')"
   ]
  },
  {
   "cell_type": "code",
   "execution_count": null,
   "metadata": {
    "collapsed": false
   },
   "outputs": [],
   "source": [
    "fig, ax = plt.subplots(1,2)\n",
    "fig.set_size_inches(12,6)\n",
    "\n",
    "fig.tight_layout()\n",
    "\n",
    "ax[0].imshow(I2, cmap=plt.cm.gray)\n",
    "ax[0].vlines(100,0,618,colors='r')   # draw a red line at x = 100\n",
    "\n",
    "# Plot the value of the pixels in the column x = 100\n",
    "\n",
    "i = np.arange(0,618,1)\n",
    "\n",
    "ax[1].set_xlabel('Y Pixel Along Line x = 100')\n",
    "ax[1].set_ylabel('Y Pixel Value Along Line x = 100')\n",
    "ax[1].plot(i,I2[:,100]);"
   ]
  },
  {
   "cell_type": "markdown",
   "metadata": {},
   "source": [
    "### Simple image manipulation"
   ]
  },
  {
   "cell_type": "code",
   "execution_count": null,
   "metadata": {
    "collapsed": false
   },
   "outputs": [],
   "source": [
    "from scipy import ndimage"
   ]
  },
  {
   "cell_type": "code",
   "execution_count": null,
   "metadata": {
    "collapsed": false
   },
   "outputs": [],
   "source": [
    "fig, ax = plt.subplots(1,5)\n",
    "fig.set_size_inches(14,6)\n",
    "\n",
    "fig.tight_layout()\n",
    "\n",
    "ax[0].imshow(I2, cmap=plt.cm.gray)\n",
    "\n",
    "I3 = ndimage.rotate(I2,45,cval=0.75)   # cval is the value to set pixels outside of image\n",
    "ax[1].imshow(I3, cmap=plt.cm.gray)\n",
    "\n",
    "I4 = ndimage.rotate(I2,45,reshape=False,cval=0.75)\n",
    "ax[2].imshow(I4, cmap=plt.cm.gray)\n",
    "\n",
    "I5 = ndimage.shift(I2,(10,30),cval=0.75)\n",
    "ax[3].imshow(I5, cmap=plt.cm.gray)\n",
    "\n",
    "I6 = ndimage.gaussian_filter(I2,5)\n",
    "ax[4].imshow(I6, cmap=plt.cm.gray);"
   ]
  },
  {
   "cell_type": "markdown",
   "metadata": {},
   "source": [
    "### `ndimage` can do much more: http://scipy-lectures.github.io/advanced/image_processing/"
   ]
  },
  {
   "cell_type": "markdown",
   "metadata": {},
   "source": [
    "---\n",
    "\n",
    "### FITS file (Flexible Image Transport System) - Standard Astro File Format\n",
    "- **FITS format preserves dynamic range of data**\n",
    "- FITS format can include lists, tables, images, and combunations of different types of data"
   ]
  },
  {
   "cell_type": "code",
   "execution_count": null,
   "metadata": {
    "collapsed": false
   },
   "outputs": [],
   "source": [
    "import astropy.io.fits as fits"
   ]
  },
  {
   "cell_type": "code",
   "execution_count": null,
   "metadata": {
    "collapsed": false
   },
   "outputs": [],
   "source": [
    "x = fits.open('bsg01.fits')\n",
    "\n",
    "x.info()"
   ]
  },
  {
   "cell_type": "code",
   "execution_count": null,
   "metadata": {
    "collapsed": false
   },
   "outputs": [],
   "source": [
    "x[0].header"
   ]
  },
  {
   "cell_type": "code",
   "execution_count": null,
   "metadata": {
    "collapsed": false
   },
   "outputs": [],
   "source": [
    "xd = x[0].data\n",
    "\n",
    "xd.min(), xd.max(), xd.shape, xd.dtype"
   ]
  },
  {
   "cell_type": "code",
   "execution_count": null,
   "metadata": {
    "collapsed": false
   },
   "outputs": [],
   "source": [
    "fig, ax = plt.subplots(1,2)\n",
    "\n",
    "fig.set_size_inches(12,6)\n",
    "\n",
    "fig.tight_layout()\n",
    "\n",
    "ax[0].imshow(xd,cmap=plt.cm.gray)\n",
    "\n",
    "ax[1].hist(xd.flatten(),bins=20);"
   ]
  },
  {
   "cell_type": "code",
   "execution_count": null,
   "metadata": {
    "collapsed": false
   },
   "outputs": [],
   "source": [
    "fig, ax = plt.subplots(1,2)\n",
    "fig.set_size_inches(12,6)\n",
    "\n",
    "fig.tight_layout()\n",
    "\n",
    "ax[0].imshow(xd, cmap=plt.cm.gray)\n",
    "\n",
    "# Open another file 'bsg02.fits'\n",
    "\n",
    "y = fits.open('bsg02.fits')\n",
    "yd = y[0].data\n",
    "\n",
    "ax[1].imshow(yd, cmap=plt.cm.gray);"
   ]
  },
  {
   "cell_type": "markdown",
   "metadata": {},
   "source": [
    "### The two images above may look the same but they are not! Subtracting the two images reveals the truth."
   ]
  },
  {
   "cell_type": "code",
   "execution_count": null,
   "metadata": {
    "collapsed": false
   },
   "outputs": [],
   "source": [
    "fig, ax = plt.subplots(1,3)\n",
    "fig.set_size_inches(12,6)\n",
    "\n",
    "fig.tight_layout()\n",
    "\n",
    "ax[0].imshow(xd, cmap=plt.cm.gray)\n",
    "ax[1].imshow(yd, cmap=plt.cm.gray)\n",
    "\n",
    "z = xd - yd\n",
    "\n",
    "ax[2].imshow(z, cmap=plt.cm.gray);"
   ]
  },
  {
   "cell_type": "markdown",
   "metadata": {},
   "source": [
    "## Pseudocolor - All color astronomy images are fake."
   ]
  },
  {
   "cell_type": "markdown",
   "metadata": {},
   "source": [
    "### Color images are composed of three 2-d images: <img src=\"images/Layers.png\" width=\"150\">"
   ]
  },
  {
   "cell_type": "markdown",
   "metadata": {},
   "source": [
    "### JPG images are 3-d, even grayscale images"
   ]
  },
  {
   "cell_type": "code",
   "execution_count": null,
   "metadata": {
    "collapsed": false
   },
   "outputs": [],
   "source": [
    "red = plt.imread('sphereR.jpg')\n",
    "\n",
    "red.shape,red.dtype"
   ]
  },
  {
   "cell_type": "markdown",
   "metadata": {},
   "source": [
    "### We just want to read in one of the three channels"
   ]
  },
  {
   "cell_type": "code",
   "execution_count": null,
   "metadata": {
    "collapsed": false
   },
   "outputs": [],
   "source": [
    "red = plt.imread('sphereR.jpg')[:,:,0]\n",
    "\n",
    "print red.shape,red.dtype"
   ]
  },
  {
   "cell_type": "code",
   "execution_count": null,
   "metadata": {
    "collapsed": false
   },
   "outputs": [],
   "source": [
    "plt.imshow(red,cmap=plt.cm.gray);"
   ]
  },
  {
   "cell_type": "code",
   "execution_count": null,
   "metadata": {
    "collapsed": false
   },
   "outputs": [],
   "source": [
    "green = plt.imread('sphereG.jpg')[:,:,0]\n",
    "blue = plt.imread('sphereB.jpg')[:,:,0]"
   ]
  },
  {
   "cell_type": "code",
   "execution_count": null,
   "metadata": {
    "collapsed": false
   },
   "outputs": [],
   "source": [
    "fig, ax = plt.subplots(1,3)\n",
    "fig.set_size_inches(12,3)\n",
    "\n",
    "fig.tight_layout()\n",
    "\n",
    "ax[0].set_title(\"Red Filter\")\n",
    "ax[1].set_title(\"Green Filter\")\n",
    "ax[2].set_title(\"Blue Filter\")\n",
    "\n",
    "ax[0].imshow(red,cmap=plt.cm.gray)\n",
    "ax[1].imshow(green,cmap=plt.cm.gray)\n",
    "ax[2].imshow(blue,cmap=plt.cm.gray);"
   ]
  },
  {
   "cell_type": "markdown",
   "metadata": {},
   "source": [
    "### Need to create a blank 3-d array to hold all of the images"
   ]
  },
  {
   "cell_type": "code",
   "execution_count": null,
   "metadata": {
    "collapsed": false
   },
   "outputs": [],
   "source": [
    "rgb = np.zeros((480,640,3),dtype='uint8')\n",
    "\n",
    "print rgb.shape, rgb.dtype\n",
    "\n",
    "plt.imshow(rgb,cmap=plt.cm.gray);"
   ]
  },
  {
   "cell_type": "markdown",
   "metadata": {},
   "source": [
    "### Fill the array with the filtered images"
   ]
  },
  {
   "cell_type": "code",
   "execution_count": null,
   "metadata": {
    "collapsed": false
   },
   "outputs": [],
   "source": [
    "rgb[:,:,0] = red\n",
    "rgb[:,:,1] = green\n",
    "rgb[:,:,2] = blue"
   ]
  },
  {
   "cell_type": "code",
   "execution_count": null,
   "metadata": {
    "collapsed": false
   },
   "outputs": [],
   "source": [
    "fig, ax = plt.subplots(1,4)\n",
    "fig.set_size_inches(14,3)\n",
    "\n",
    "fig.tight_layout()\n",
    "\n",
    "ax[0].set_title(\"Red Filter\")\n",
    "ax[1].set_title(\"Green Filter\")\n",
    "ax[2].set_title(\"Blue Filter\")\n",
    "ax[3].set_title(\"All Filters Stacked\")\n",
    "\n",
    "ax[0].imshow(red,cmap=plt.cm.gray)\n",
    "ax[1].imshow(green,cmap=plt.cm.gray)\n",
    "ax[2].imshow(blue,cmap=plt.cm.gray)\n",
    "ax[3].imshow(rgb,cmap=plt.cm.gray);"
   ]
  },
  {
   "cell_type": "code",
   "execution_count": null,
   "metadata": {
    "collapsed": false
   },
   "outputs": [],
   "source": []
  }
 ],
 "metadata": {
  "kernelspec": {
   "display_name": "Python 3",
   "language": "python",
   "name": "python3"
  },
  "language_info": {
   "codemirror_mode": {
    "name": "ipython",
    "version": 3
   },
   "file_extension": ".py",
   "mimetype": "text/x-python",
   "name": "python",
   "nbconvert_exporter": "python",
   "pygments_lexer": "ipython3",
   "version": "3.4.3"
  }
 },
 "nbformat": 4,
 "nbformat_minor": 0
}
