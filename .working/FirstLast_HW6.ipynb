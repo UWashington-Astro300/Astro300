{
 "metadata": {
  "name": "",
  "signature": "sha256:9e3dc8eee5db056865e7432ef50c65b4b70da28277e52aa8f94767bbc69931c9"
 },
 "nbformat": 3,
 "nbformat_minor": 0,
 "worksheets": [
  {
   "cells": [
    {
     "cell_type": "markdown",
     "metadata": {},
     "source": [
      "## First Last - Homework 6"
     ]
    },
    {
     "cell_type": "code",
     "collapsed": false,
     "input": [
      "%matplotlib inline\n",
      "\n",
      "import numpy as np\n",
      "import pandas as pd\n",
      "import matplotlib.pyplot as plt"
     ],
     "language": "python",
     "metadata": {},
     "outputs": []
    },
    {
     "cell_type": "markdown",
     "metadata": {},
     "source": [
      "### The file `SDSS_MainBelt.csv` contains data on objects in the asteroid belt collected by the [Sloan Digital Sky Survey](http://www.sdss.org/).\n",
      "\n",
      "The columns are:\n",
      "- **`Name`** - Object name\n",
      "- **`a`** - semi-major axis\n",
      "- **`cA`** - SDSS a$^*$ color\n",
      "- **`cI`** - SDSS i color (near infrared)\n",
      "- **`cZ`** - SDSS z color (infrared)\n",
      "- **`X`** - X position [au] - Sun-centered coords (10/29/2014)\n",
      "- **`Y`** - Y position [au] - Sun-centered coords (10/29/2014)\n",
      "- **`Z`** - Z position [au] - Sun-centered coords (10/29/2014)"
     ]
    },
    {
     "cell_type": "markdown",
     "metadata": {},
     "source": [
      "### Read in the file `SDSS_MainBelt.csv`"
     ]
    },
    {
     "cell_type": "code",
     "collapsed": false,
     "input": [],
     "language": "python",
     "metadata": {},
     "outputs": []
    },
    {
     "cell_type": "markdown",
     "metadata": {},
     "source": [
      "## The Distribution of the Asteroids\n",
      "- Orbital period [years]: `P` = a$^{3/2}$\n",
      "- Orbital Period of Jupiter: `Pjup` = 11.8618 years\n",
      "- Make a histogram of: `Pjup / P`\n",
      "- Bins = 150\n",
      "- Invert the x-axis\n",
      "- Draw vertical lines at `Pjup / P` = 1,2,3,4\n",
      "- Label the axis\n",
      "- Make the plot look nice"
     ]
    },
    {
     "cell_type": "code",
     "collapsed": false,
     "input": [],
     "language": "python",
     "metadata": {},
     "outputs": []
    },
    {
     "cell_type": "markdown",
     "metadata": {},
     "source": [
      "## The Position of the Asteroids \n",
      "- Make a plot of X vs Y for the asteroids \n",
      "- Make sure that 1 unit in X = 1 unit in Y\n",
      "- Make the axes go through (0,0)"
     ]
    },
    {
     "cell_type": "code",
     "collapsed": false,
     "input": [],
     "language": "python",
     "metadata": {},
     "outputs": []
    },
    {
     "cell_type": "markdown",
     "metadata": {},
     "source": [
      "## The Color of the Asteroids \n",
      "- Make three (3) plots in one row\n",
      "- In each panel, put the plot of asteroid position from above. Use alpha = 0.20\n",
      "- In the first panel, overplot the positions of C-Type asteroids using a different color and symbol\n",
      "- In the second panel, overplot the positions of S-Type asteroids using a different color and symbol\n",
      "- In the third panel, overplot the positions of V-Type asteroids using a different color and symbol\n",
      "- The asteroid types can be determined from their colors (see image below)"
     ]
    },
    {
     "cell_type": "code",
     "collapsed": false,
     "input": [],
     "language": "python",
     "metadata": {},
     "outputs": []
    },
    {
     "cell_type": "markdown",
     "metadata": {},
     "source": [
      "## Fitting data to a function\n",
      "- The datafile `'FitMe.dat'` contains two columns of data (x,y)\n",
      "- Plot the data x,y\n",
      "- Fit the function below to the data\n",
      "- Find the values of a,b,c that best fit the data\n",
      "- Plot the fit with the data\n",
      "- Make the plots look nice"
     ]
    },
    {
     "cell_type": "markdown",
     "metadata": {},
     "source": [
      "##$$ f(x) = a \\sin(bx) \\ e^{-cx} $$"
     ]
    },
    {
     "cell_type": "code",
     "collapsed": false,
     "input": [],
     "language": "python",
     "metadata": {},
     "outputs": []
    },
    {
     "cell_type": "markdown",
     "metadata": {},
     "source": [
      "---\n",
      "\n",
      "### Asteroid classes - SDSS Colors\n",
      "\n",
      "---\n",
      "\n",
      "<center><img src=\"/files/Colors.jpg\" width=600px></center>"
     ]
    },
    {
     "cell_type": "markdown",
     "metadata": {},
     "source": [
      "### Due Tues Feb 17 - 5pm\n",
      "- `cp FirstLast_HW6.ipynb ~pikaia/HOMEWORK/`\n",
      "- Make sure to change the file name and Title to your name!"
     ]
    },
    {
     "cell_type": "code",
     "collapsed": false,
     "input": [],
     "language": "python",
     "metadata": {},
     "outputs": []
    }
   ],
   "metadata": {}
  }
 ]
}